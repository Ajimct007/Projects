{
 "cells": [
  {
   "cell_type": "markdown",
   "id": "d790b09c-4dd2-4583-a804-778c76017249",
   "metadata": {},
   "source": [
    "Dataset link -- https://www.kaggle.com/datasets/brijbhushannanda1979/bigmart-sales-data"
   ]
  },
  {
   "cell_type": "markdown",
   "id": "6ce8833f-f40f-4263-bcfc-99d142d9da2e",
   "metadata": {},
   "source": [
    "# Workflow\n",
    "1) Data\n",
    "2) Data Pre processing\n",
    "3) Data Analysis\n",
    "4) Train Test Split\n",
    "5) XGBoost Regressor\n",
    "6) Evaluation"
   ]
  },
  {
   "cell_type": "code",
   "execution_count": null,
   "id": "b84252f1-69a1-4e93-a2db-e8f6f6860ebe",
   "metadata": {},
   "outputs": [],
   "source": [
    "#Importing the dependencies\n",
    "import numpy as np\n",
    "import pandas as pd\n",
    "import matplotlib.pyplot as plt\n",
    "import seaborn as sns\n",
    "from sklearn.preprocessing import LabelEncoder\n",
    "from sklearn.model_selection import train_test_split\n",
    "from xgboost import XGBRegressor\n",
    "from sklearn import metrics ## for finding the performance of the model"
   ]
  },
  {
   "cell_type": "code",
   "execution_count": null,
   "id": "6290344b-1107-43b0-8823-c306a436c507",
   "metadata": {},
   "outputs": [],
   "source": [
    "bigmart_data = pd.read_csv('D:\\\\Data Science\\\\Datasets\\\\Machine Learning\\\\Projects\\\\big_mart_sales\\\\train.csv')\n",
    "bigmart_data.head()"
   ]
  },
  {
   "cell_type": "code",
   "execution_count": null,
   "id": "3625bd38-a81b-4c90-9d56-28eba34906f9",
   "metadata": {},
   "outputs": [],
   "source": [
    "bigmart_data.shape"
   ]
  },
  {
   "cell_type": "code",
   "execution_count": null,
   "id": "2ff32b4d-d200-4179-b251-92d4731caf4f",
   "metadata": {},
   "outputs": [],
   "source": [
    "bigmart_data.info()"
   ]
  },
  {
   "cell_type": "code",
   "execution_count": null,
   "id": "f07b17e3-e5d5-4550-9000-3d6d5fa7205f",
   "metadata": {},
   "outputs": [],
   "source": [
    "## Checking the missing values\n",
    "bigmart_data.isnull().sum()"
   ]
  },
  {
   "cell_type": "code",
   "execution_count": null,
   "id": "64537b1a-b52b-4794-8d6e-40497f5c0643",
   "metadata": {},
   "outputs": [],
   "source": [
    "## mean value of item_weight column\n",
    "bigmart_data['Item_Weight'].mean()"
   ]
  },
  {
   "cell_type": "code",
   "execution_count": null,
   "id": "b13bda1e-6c4f-4efb-a45d-70b1295869a7",
   "metadata": {},
   "outputs": [],
   "source": [
    "# filling the missing values in \"Item_weight column\" with \"Mean\" value\n",
    "bigmart_data['Item_Weight'].fillna(bigmart_data['Item_Weight'].mean(), inplace=True)"
   ]
  },
  {
   "cell_type": "code",
   "execution_count": null,
   "id": "d293c6f6-87e7-4992-965c-97202fcb615d",
   "metadata": {},
   "outputs": [],
   "source": [
    "# mode of \"Outlet_Size\" column\n",
    "bigmart_data['Outlet_Size'].mode()"
   ]
  },
  {
   "cell_type": "code",
   "execution_count": null,
   "id": "718043ce-d969-41db-9e19-4554b580306c",
   "metadata": {},
   "outputs": [],
   "source": [
    "mode_of_outlet_size = bigmart_data.pivot_table(values='Outlet_Size', columns='Outlet_Type', aggfunc=(lambda x:x.mode()[0]))\n",
    "mode_of_outlet_size"
   ]
  },
  {
   "cell_type": "code",
   "execution_count": null,
   "id": "c165781e-d233-4c07-afad-7a1f17eaeaea",
   "metadata": {},
   "outputs": [],
   "source": [
    "miss_values = bigmart_data['Outlet_Size'].isnull()\n",
    "miss_values"
   ]
  },
  {
   "cell_type": "code",
   "execution_count": null,
   "id": "19f0214c-ef16-4e2f-b153-5ee647c1ed44",
   "metadata": {},
   "outputs": [],
   "source": [
    "bigmart_data.loc[miss_values, 'Outlet_Size']= bigmart_data.loc[miss_values,'Outlet_Type'].apply(lambda x: mode_of_outlet_size[x])"
   ]
  },
  {
   "cell_type": "code",
   "execution_count": null,
   "id": "20f1f6d4-c5f5-4ed0-8dec-f0856a3f6bb6",
   "metadata": {},
   "outputs": [],
   "source": [
    "bigmart_data.isnull().sum()"
   ]
  },
  {
   "cell_type": "code",
   "execution_count": null,
   "id": "76aeeb96-2e99-4004-9e4e-f5f3195ba66e",
   "metadata": {},
   "outputs": [],
   "source": [
    "## Data Analysis\n",
    "bigmart_data.describe() ## Statistical measures about the data"
   ]
  },
  {
   "cell_type": "code",
   "execution_count": null,
   "id": "6b25b7c5-d747-4d14-808c-cf376b37bf7a",
   "metadata": {},
   "outputs": [],
   "source": [
    "sns.set() ## setting the theme"
   ]
  },
  {
   "cell_type": "code",
   "execution_count": null,
   "id": "22318ae4-83e3-4fbe-8aee-eab87ce47822",
   "metadata": {},
   "outputs": [],
   "source": [
    "## Item weight distributon\n",
    "plt.figure(figsize=(5,5))\n",
    "sns.histplot(bigmart_data['Item_Weight'], kde=True)\n",
    "plt.show()"
   ]
  },
  {
   "cell_type": "code",
   "execution_count": null,
   "id": "8501573b-743d-4499-bc3f-ca1d3bf3671d",
   "metadata": {},
   "outputs": [],
   "source": [
    "# Item visibility distribution\n",
    "plt.figure(figsize=(5,5))\n",
    "sns.histplot(bigmart_data['Item_Visibility'], kde=True)\n",
    "plt.show()"
   ]
  },
  {
   "cell_type": "code",
   "execution_count": null,
   "id": "fa3e85dc-95d2-4424-b29a-ba5c447898cd",
   "metadata": {},
   "outputs": [],
   "source": [
    "# Item MRP\n",
    "plt.figure(figsize=(5,5))\n",
    "sns.histplot(bigmart_data['Item_MRP'], kde=True)\n",
    "plt.show()"
   ]
  },
  {
   "cell_type": "code",
   "execution_count": null,
   "id": "f6fb1e39-5b4f-4973-81a9-a4219a55053c",
   "metadata": {},
   "outputs": [],
   "source": [
    "# Item distributiion sales\n",
    "plt.figure(figsize=(5,5))\n",
    "sns.histplot(bigmart_data['Item_Outlet_Sales'], kde=True)\n",
    "plt.show()"
   ]
  },
  {
   "cell_type": "code",
   "execution_count": null,
   "id": "bafa4723-7bb6-4743-9415-ec7b3f1688ba",
   "metadata": {},
   "outputs": [],
   "source": [
    "## count plot for establishment year\n",
    "plt.figure(figsize=(5,5))\n",
    "sns.countplot(data = bigmart_data, x = 'Outlet_Establishment_Year')\n",
    "plt.show()"
   ]
  },
  {
   "cell_type": "code",
   "execution_count": null,
   "id": "c3be64ba-2d60-41b1-940c-7a083f06b375",
   "metadata": {},
   "outputs": [],
   "source": [
    "## Categorical features\n",
    "# Item_Fat_Content column\n",
    "plt.figure(figsize=(5,5))\n",
    "sns.countplot(data=bigmart_data,x='Item_Fat_Content')\n",
    "plt.show()"
   ]
  },
  {
   "cell_type": "code",
   "execution_count": null,
   "id": "162d1821-7974-4402-82b5-be056c4ee81e",
   "metadata": {},
   "outputs": [],
   "source": [
    "# Item_Type column\n",
    "plt.figure(figsize=(30,6))\n",
    "sns.countplot(data=bigmart_data,x='Item_Type')\n",
    "plt.show()"
   ]
  },
  {
   "cell_type": "code",
   "execution_count": null,
   "id": "2c97a423-6f9a-4aec-9a99-eea05fdea93b",
   "metadata": {},
   "outputs": [],
   "source": [
    "# Outlet_Size column\n",
    "plt.figure(figsize=(5,5))\n",
    "sns.countplot(data=bigmart_data, x='Outlet_Size')\n",
    "plt.show()"
   ]
  },
  {
   "cell_type": "markdown",
   "id": "7a105da4-aaa9-4498-a403-77098f5d70f8",
   "metadata": {},
   "source": [
    "# Pre-processing"
   ]
  },
  {
   "cell_type": "code",
   "execution_count": null,
   "id": "0592475e-b646-449e-bc51-55f94f63e5bc",
   "metadata": {},
   "outputs": [],
   "source": [
    "bigmart_data.head()"
   ]
  },
  {
   "cell_type": "code",
   "execution_count": null,
   "id": "46fab792-86d1-4ad4-97e8-7a191a5bad60",
   "metadata": {},
   "outputs": [],
   "source": [
    "bigmart_data['Item_Fat_Content'].value_counts()"
   ]
  },
  {
   "cell_type": "code",
   "execution_count": null,
   "id": "6889888d-3a17-4e3e-badb-7908b5b1e25f",
   "metadata": {},
   "outputs": [],
   "source": [
    "bigmart_data.replace({'Item_Fat_Content':{'low fat':'Low Fat', 'LF': 'Low Fat', 'reg':'Regular'}}, inplace=True)"
   ]
  },
  {
   "cell_type": "code",
   "execution_count": null,
   "id": "e234f5ed-36b8-4b3f-8153-a906ae4a07c1",
   "metadata": {},
   "outputs": [],
   "source": [
    "bigmart_data['Item_Fat_Content'].value_counts()"
   ]
  },
  {
   "cell_type": "markdown",
   "id": "18d30f5c-ea68-4904-98fb-ae33d739766d",
   "metadata": {},
   "source": [
    "## Label Encoding"
   ]
  },
  {
   "cell_type": "code",
   "execution_count": null,
   "id": "c37957a1-e009-45c3-9c32-876aa0e5a0ba",
   "metadata": {},
   "outputs": [],
   "source": [
    "encoder = LabelEncoder()"
   ]
  },
  {
   "cell_type": "code",
   "execution_count": null,
   "id": "705c0394-d8fd-4693-8bfb-035414d62f88",
   "metadata": {},
   "outputs": [],
   "source": [
    "bigmart_data['Item_Identifier'] = encoder.fit_transform(bigmart_data['Item_Identifier'])\n",
    "\n",
    "bigmart_data['Item_Fat_Content'] = encoder.fit_transform(bigmart_data['Item_Fat_Content'])\n",
    "\n",
    "bigmart_data['Item_Type'] = encoder.fit_transform(bigmart_data['Item_Type'])\n",
    "\n",
    "bigmart_data['Outlet_Identifier'] = encoder.fit_transform(bigmart_data['Outlet_Identifier'])\n",
    "\n",
    "bigmart_data['Outlet_Size'] = encoder.fit_transform(bigmart_data['Outlet_Size'])\n",
    "\n",
    "bigmart_data['Outlet_Location_Type'] = encoder.fit_transform(bigmart_data['Outlet_Location_Type'])\n",
    "\n",
    "bigmart_data['Outlet_Type'] = encoder.fit_transform(bigmart_data['Outlet_Type'])"
   ]
  },
  {
   "cell_type": "code",
   "execution_count": null,
   "id": "daf09241-e7e1-402e-b5c1-fe2e9d0d21fc",
   "metadata": {},
   "outputs": [],
   "source": [
    "bigmart_data.head()"
   ]
  },
  {
   "cell_type": "code",
   "execution_count": null,
   "id": "458cdc1d-e9c1-4e03-a413-0c1b89da3d37",
   "metadata": {},
   "outputs": [],
   "source": [
    "## Splitting the dataset\n",
    "X = bigmart_data.drop(columns='Item_Outlet_Sales', axis=1)\n",
    "Y = bigmart_data['Item_Outlet_Sales']"
   ]
  },
  {
   "cell_type": "code",
   "execution_count": null,
   "id": "d6f0f6db-d274-4d01-bd72-0e3432504343",
   "metadata": {},
   "outputs": [],
   "source": [
    "X_train, X_test, Y_train, Y_test = train_test_split(X, Y, test_size=0.2, random_state=2)"
   ]
  },
  {
   "cell_type": "code",
   "execution_count": null,
   "id": "37742620-cb35-4e94-b1b7-519db7d1e88a",
   "metadata": {},
   "outputs": [],
   "source": [
    "print(X.shape, X_train.shape, X_test.shape)"
   ]
  },
  {
   "cell_type": "markdown",
   "id": "5a7590d0-e7e0-4799-b734-0a57ecc63e5b",
   "metadata": {},
   "source": [
    "# Machine Learning Model Training"
   ]
  },
  {
   "cell_type": "code",
   "execution_count": null,
   "id": "be07786b-775c-4edc-997d-eb3da995cef7",
   "metadata": {},
   "outputs": [],
   "source": [
    "## XGBoost regressor\n",
    "regressor = XGBRegressor()"
   ]
  },
  {
   "cell_type": "code",
   "execution_count": null,
   "id": "16c58850-5f20-4a94-be8d-54863dcb16c8",
   "metadata": {},
   "outputs": [],
   "source": [
    "regressor.fit(X_train, Y_train)"
   ]
  },
  {
   "cell_type": "code",
   "execution_count": null,
   "id": "56bf8d7a-fcf8-4054-92fd-4127fe434d27",
   "metadata": {},
   "outputs": [],
   "source": [
    "# Evaluation\n",
    "training_data_prediction = regressor.predict(X_train)"
   ]
  },
  {
   "cell_type": "code",
   "execution_count": null,
   "id": "2c1e6b2a-6777-4bf5-9d4d-c10b163385d8",
   "metadata": {},
   "outputs": [],
   "source": [
    "r2_train = metrics.r2_score(Y_train, training_data_prediction)"
   ]
  },
  {
   "cell_type": "code",
   "execution_count": null,
   "id": "15da0ca9-c4e9-4ace-9e8e-7766256386b8",
   "metadata": {},
   "outputs": [],
   "source": [
    "print('R Squared value = ', r2_train)"
   ]
  },
  {
   "cell_type": "code",
   "execution_count": null,
   "id": "7ea04ba3-8d30-4b75-a147-29cdb37e64db",
   "metadata": {},
   "outputs": [],
   "source": [
    "test_data_prediction = regressor.predict(X_test)"
   ]
  },
  {
   "cell_type": "code",
   "execution_count": null,
   "id": "780c065c-e9fb-4c0e-b241-f28c34298014",
   "metadata": {},
   "outputs": [],
   "source": [
    "r2_test = metrics.r2_score(Y_test, test_data_prediction)"
   ]
  },
  {
   "cell_type": "code",
   "execution_count": null,
   "id": "36bd43ea-2f21-4ea5-8dea-939f8c67f781",
   "metadata": {},
   "outputs": [],
   "source": [
    "print('R Squared value = ', r2_test)"
   ]
  },
  {
   "cell_type": "code",
   "execution_count": null,
   "id": "2dbe5164-4b80-4179-856d-5b9068c08a28",
   "metadata": {},
   "outputs": [],
   "source": [
    "regressor.score(X_test, Y_test)"
   ]
  }
 ],
 "metadata": {
  "kernelspec": {
   "display_name": "Python 3 (ipykernel)",
   "language": "python",
   "name": "python3"
  },
  "language_info": {
   "codemirror_mode": {
    "name": "ipython",
    "version": 3
   },
   "file_extension": ".py",
   "mimetype": "text/x-python",
   "name": "python",
   "nbconvert_exporter": "python",
   "pygments_lexer": "ipython3",
   "version": "3.10.12"
  },
  "widgets": {
   "application/vnd.jupyter.widget-state+json": {
    "state": {},
    "version_major": 2,
    "version_minor": 0
   }
  }
 },
 "nbformat": 4,
 "nbformat_minor": 5
}
