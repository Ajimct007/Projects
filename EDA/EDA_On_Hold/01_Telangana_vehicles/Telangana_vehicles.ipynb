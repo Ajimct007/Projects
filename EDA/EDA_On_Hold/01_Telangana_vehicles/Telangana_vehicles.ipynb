{
 "cells": [
  {
   "cell_type": "markdown",
   "id": "7c26bd8f",
   "metadata": {},
   "source": [
    "# Telangana Vehicle Sales 2023 🚗\n",
    "\n",
    "#### Kaggle link for dataset -- https://www.kaggle.com/datasets/zubairatha/revving-up-telangana-vehicle-sales-2023"
   ]
  },
  {
   "cell_type": "code",
   "execution_count": 1,
   "id": "dd9c71a3",
   "metadata": {},
   "outputs": [],
   "source": [
    "import pandas as pd\n",
    "import numpy as np\n",
    "import matplotlib.pyplot as plt\n",
    "import seaborn as sns\n",
    "%matplotlib inline"
   ]
  },
  {
   "cell_type": "code",
   "execution_count": 2,
   "id": "07c29576",
   "metadata": {},
   "outputs": [
    {
     "data": {
      "text/html": [
       "<div>\n",
       "<style scoped>\n",
       "    .dataframe tbody tr th:only-of-type {\n",
       "        vertical-align: middle;\n",
       "    }\n",
       "\n",
       "    .dataframe tbody tr th {\n",
       "        vertical-align: top;\n",
       "    }\n",
       "\n",
       "    .dataframe thead th {\n",
       "        text-align: right;\n",
       "    }\n",
       "</style>\n",
       "<table border=\"1\" class=\"dataframe\">\n",
       "  <thead>\n",
       "    <tr style=\"text-align: right;\">\n",
       "      <th></th>\n",
       "      <th>slno</th>\n",
       "      <th>modelDesc</th>\n",
       "      <th>fuel</th>\n",
       "      <th>colour</th>\n",
       "      <th>vehicleClass</th>\n",
       "      <th>makeYear</th>\n",
       "      <th>seatCapacity</th>\n",
       "      <th>insuranceValidity</th>\n",
       "      <th>secondVehicle</th>\n",
       "      <th>tempRegistrationNumber</th>\n",
       "      <th>category</th>\n",
       "      <th>makerName</th>\n",
       "      <th>OfficeCd</th>\n",
       "      <th>fromdate</th>\n",
       "      <th>todate</th>\n",
       "    </tr>\n",
       "  </thead>\n",
       "  <tbody>\n",
       "    <tr>\n",
       "      <th>0</th>\n",
       "      <td>19139</td>\n",
       "      <td>ACTIVA - 6G DLX BSVI</td>\n",
       "      <td>PETROL</td>\n",
       "      <td>DECENT BLUE METALLIC</td>\n",
       "      <td>MOTOR CYCLE</td>\n",
       "      <td>01/08/2022</td>\n",
       "      <td>2</td>\n",
       "      <td>01/01/2028</td>\n",
       "      <td>Y</td>\n",
       "      <td>TS11AGTR3069</td>\n",
       "      <td>Non Transport</td>\n",
       "      <td>HONDA MOTORCYCLE&amp;SCOOTER(I)P L</td>\n",
       "      <td>RTA MEDCHAL</td>\n",
       "      <td>01/01/2023</td>\n",
       "      <td>02/01/2023</td>\n",
       "    </tr>\n",
       "    <tr>\n",
       "      <th>1</th>\n",
       "      <td>19210</td>\n",
       "      <td>ACTIVA - 6G DLX BSVI</td>\n",
       "      <td>PETROL</td>\n",
       "      <td>DECENT BLUE METALLIC</td>\n",
       "      <td>MOTOR CYCLE</td>\n",
       "      <td>01/09/2022</td>\n",
       "      <td>2</td>\n",
       "      <td>01/01/2028</td>\n",
       "      <td>Y</td>\n",
       "      <td>TS11AGTR3340</td>\n",
       "      <td>Non Transport</td>\n",
       "      <td>HONDA MOTORCYCLE&amp;SCOOTER(I)P L</td>\n",
       "      <td>RTA MEDCHAL</td>\n",
       "      <td>01/01/2023</td>\n",
       "      <td>02/01/2023</td>\n",
       "    </tr>\n",
       "  </tbody>\n",
       "</table>\n",
       "</div>"
      ],
      "text/plain": [
       "    slno             modelDesc    fuel                colour vehicleClass  \\\n",
       "0  19139  ACTIVA - 6G DLX BSVI  PETROL  DECENT BLUE METALLIC  MOTOR CYCLE   \n",
       "1  19210  ACTIVA - 6G DLX BSVI  PETROL  DECENT BLUE METALLIC  MOTOR CYCLE   \n",
       "\n",
       "     makeYear  seatCapacity insuranceValidity secondVehicle  \\\n",
       "0  01/08/2022             2        01/01/2028             Y   \n",
       "1  01/09/2022             2        01/01/2028             Y   \n",
       "\n",
       "  tempRegistrationNumber       category                       makerName  \\\n",
       "0           TS11AGTR3069  Non Transport  HONDA MOTORCYCLE&SCOOTER(I)P L   \n",
       "1           TS11AGTR3340  Non Transport  HONDA MOTORCYCLE&SCOOTER(I)P L   \n",
       "\n",
       "      OfficeCd    fromdate      todate  \n",
       "0  RTA MEDCHAL  01/01/2023  02/01/2023  \n",
       "1  RTA MEDCHAL  01/01/2023  02/01/2023  "
      ]
     },
     "execution_count": 2,
     "metadata": {},
     "output_type": "execute_result"
    }
   ],
   "source": [
    "df=pd.read_csv('D:\\\\Data Science\\\\Datasets\\\\For_statistics\\\\03_Telangana_vehicles\\\\telangana_vehicle_sales.csv')\n",
    "df.head(2)"
   ]
  },
  {
   "cell_type": "code",
   "execution_count": 3,
   "id": "ed7de063",
   "metadata": {},
   "outputs": [
    {
     "data": {
      "text/plain": [
       "(627866, 15)"
      ]
     },
     "execution_count": 3,
     "metadata": {},
     "output_type": "execute_result"
    }
   ],
   "source": [
    "df.shape"
   ]
  },
  {
   "cell_type": "code",
   "execution_count": 5,
   "id": "59f4d56d",
   "metadata": {},
   "outputs": [],
   "source": [
    "## Setting option to view the maximum number of columns\n",
    "pd.set_option('display.max_columns',15)"
   ]
  },
  {
   "cell_type": "code",
   "execution_count": 6,
   "id": "961f8c70",
   "metadata": {},
   "outputs": [
    {
     "data": {
      "text/html": [
       "<div>\n",
       "<style scoped>\n",
       "    .dataframe tbody tr th:only-of-type {\n",
       "        vertical-align: middle;\n",
       "    }\n",
       "\n",
       "    .dataframe tbody tr th {\n",
       "        vertical-align: top;\n",
       "    }\n",
       "\n",
       "    .dataframe thead th {\n",
       "        text-align: right;\n",
       "    }\n",
       "</style>\n",
       "<table border=\"1\" class=\"dataframe\">\n",
       "  <thead>\n",
       "    <tr style=\"text-align: right;\">\n",
       "      <th></th>\n",
       "      <th>slno</th>\n",
       "      <th>modelDesc</th>\n",
       "      <th>fuel</th>\n",
       "      <th>colour</th>\n",
       "      <th>vehicleClass</th>\n",
       "      <th>makeYear</th>\n",
       "      <th>seatCapacity</th>\n",
       "      <th>insuranceValidity</th>\n",
       "      <th>secondVehicle</th>\n",
       "      <th>tempRegistrationNumber</th>\n",
       "      <th>category</th>\n",
       "      <th>makerName</th>\n",
       "      <th>OfficeCd</th>\n",
       "      <th>fromdate</th>\n",
       "      <th>todate</th>\n",
       "    </tr>\n",
       "  </thead>\n",
       "  <tbody>\n",
       "    <tr>\n",
       "      <th>0</th>\n",
       "      <td>19139</td>\n",
       "      <td>ACTIVA - 6G DLX BSVI</td>\n",
       "      <td>PETROL</td>\n",
       "      <td>DECENT BLUE METALLIC</td>\n",
       "      <td>MOTOR CYCLE</td>\n",
       "      <td>01/08/2022</td>\n",
       "      <td>2</td>\n",
       "      <td>01/01/2028</td>\n",
       "      <td>Y</td>\n",
       "      <td>TS11AGTR3069</td>\n",
       "      <td>Non Transport</td>\n",
       "      <td>HONDA MOTORCYCLE&amp;SCOOTER(I)P L</td>\n",
       "      <td>RTA MEDCHAL</td>\n",
       "      <td>01/01/2023</td>\n",
       "      <td>02/01/2023</td>\n",
       "    </tr>\n",
       "    <tr>\n",
       "      <th>1</th>\n",
       "      <td>19210</td>\n",
       "      <td>ACTIVA - 6G DLX BSVI</td>\n",
       "      <td>PETROL</td>\n",
       "      <td>DECENT BLUE METALLIC</td>\n",
       "      <td>MOTOR CYCLE</td>\n",
       "      <td>01/09/2022</td>\n",
       "      <td>2</td>\n",
       "      <td>01/01/2028</td>\n",
       "      <td>Y</td>\n",
       "      <td>TS11AGTR3340</td>\n",
       "      <td>Non Transport</td>\n",
       "      <td>HONDA MOTORCYCLE&amp;SCOOTER(I)P L</td>\n",
       "      <td>RTA MEDCHAL</td>\n",
       "      <td>01/01/2023</td>\n",
       "      <td>02/01/2023</td>\n",
       "    </tr>\n",
       "    <tr>\n",
       "      <th>2</th>\n",
       "      <td>19308</td>\n",
       "      <td>ACTIVA - 6G DLX BSVI</td>\n",
       "      <td>PETROL</td>\n",
       "      <td>DECENT BLUE METALLIC</td>\n",
       "      <td>MOTOR CYCLE</td>\n",
       "      <td>01/10/2022</td>\n",
       "      <td>2</td>\n",
       "      <td>01/01/2028</td>\n",
       "      <td>N</td>\n",
       "      <td>TS11AGTR3027</td>\n",
       "      <td>Non Transport</td>\n",
       "      <td>HONDA MOTORCYCLE&amp;SCOOTER(I)P L</td>\n",
       "      <td>RTA MEDCHAL</td>\n",
       "      <td>01/01/2023</td>\n",
       "      <td>02/01/2023</td>\n",
       "    </tr>\n",
       "    <tr>\n",
       "      <th>3</th>\n",
       "      <td>19309</td>\n",
       "      <td>ACTIVA - 6G DLX BSVI</td>\n",
       "      <td>PETROL</td>\n",
       "      <td>DECENT BLUE METALLIC</td>\n",
       "      <td>MOTOR CYCLE</td>\n",
       "      <td>01/10/2022</td>\n",
       "      <td>2</td>\n",
       "      <td>01/01/2028</td>\n",
       "      <td>N</td>\n",
       "      <td>TS11AGTR3072</td>\n",
       "      <td>Non Transport</td>\n",
       "      <td>HONDA MOTORCYCLE&amp;SCOOTER(I)P L</td>\n",
       "      <td>RTA MEDCHAL</td>\n",
       "      <td>01/01/2023</td>\n",
       "      <td>02/01/2023</td>\n",
       "    </tr>\n",
       "    <tr>\n",
       "      <th>4</th>\n",
       "      <td>19329</td>\n",
       "      <td>ACTIVA - 6G DLX BSVI</td>\n",
       "      <td>PETROL</td>\n",
       "      <td>DECENT BLUE METALLIC</td>\n",
       "      <td>MOTOR CYCLE</td>\n",
       "      <td>01/11/2022</td>\n",
       "      <td>2</td>\n",
       "      <td>01/01/2028</td>\n",
       "      <td>N</td>\n",
       "      <td>TS11AGTR4864</td>\n",
       "      <td>Non Transport</td>\n",
       "      <td>HONDA MOTORCYCLE&amp;SCOOTER(I)P L</td>\n",
       "      <td>RTA-HYDERABAD-CZ</td>\n",
       "      <td>01/01/2023</td>\n",
       "      <td>02/01/2023</td>\n",
       "    </tr>\n",
       "  </tbody>\n",
       "</table>\n",
       "</div>"
      ],
      "text/plain": [
       "    slno             modelDesc    fuel                colour vehicleClass  \\\n",
       "0  19139  ACTIVA - 6G DLX BSVI  PETROL  DECENT BLUE METALLIC  MOTOR CYCLE   \n",
       "1  19210  ACTIVA - 6G DLX BSVI  PETROL  DECENT BLUE METALLIC  MOTOR CYCLE   \n",
       "2  19308  ACTIVA - 6G DLX BSVI  PETROL  DECENT BLUE METALLIC  MOTOR CYCLE   \n",
       "3  19309  ACTIVA - 6G DLX BSVI  PETROL  DECENT BLUE METALLIC  MOTOR CYCLE   \n",
       "4  19329  ACTIVA - 6G DLX BSVI  PETROL  DECENT BLUE METALLIC  MOTOR CYCLE   \n",
       "\n",
       "     makeYear  seatCapacity insuranceValidity secondVehicle  \\\n",
       "0  01/08/2022             2        01/01/2028             Y   \n",
       "1  01/09/2022             2        01/01/2028             Y   \n",
       "2  01/10/2022             2        01/01/2028             N   \n",
       "3  01/10/2022             2        01/01/2028             N   \n",
       "4  01/11/2022             2        01/01/2028             N   \n",
       "\n",
       "  tempRegistrationNumber       category                       makerName  \\\n",
       "0           TS11AGTR3069  Non Transport  HONDA MOTORCYCLE&SCOOTER(I)P L   \n",
       "1           TS11AGTR3340  Non Transport  HONDA MOTORCYCLE&SCOOTER(I)P L   \n",
       "2           TS11AGTR3027  Non Transport  HONDA MOTORCYCLE&SCOOTER(I)P L   \n",
       "3           TS11AGTR3072  Non Transport  HONDA MOTORCYCLE&SCOOTER(I)P L   \n",
       "4           TS11AGTR4864  Non Transport  HONDA MOTORCYCLE&SCOOTER(I)P L   \n",
       "\n",
       "           OfficeCd    fromdate      todate  \n",
       "0       RTA MEDCHAL  01/01/2023  02/01/2023  \n",
       "1       RTA MEDCHAL  01/01/2023  02/01/2023  \n",
       "2       RTA MEDCHAL  01/01/2023  02/01/2023  \n",
       "3       RTA MEDCHAL  01/01/2023  02/01/2023  \n",
       "4  RTA-HYDERABAD-CZ  01/01/2023  02/01/2023  "
      ]
     },
     "execution_count": 6,
     "metadata": {},
     "output_type": "execute_result"
    }
   ],
   "source": [
    "df.head()"
   ]
  },
  {
   "cell_type": "code",
   "execution_count": 7,
   "id": "5b349dd9",
   "metadata": {},
   "outputs": [
    {
     "data": {
      "text/plain": [
       "slno                          0\n",
       "modelDesc                     0\n",
       "fuel                      12851\n",
       "colour                      319\n",
       "vehicleClass                  0\n",
       "makeYear                      0\n",
       "seatCapacity                  0\n",
       "insuranceValidity           135\n",
       "secondVehicle                 0\n",
       "tempRegistrationNumber        0\n",
       "category                      0\n",
       "makerName                     0\n",
       "OfficeCd                      0\n",
       "fromdate                      0\n",
       "todate                        0\n",
       "dtype: int64"
      ]
     },
     "execution_count": 7,
     "metadata": {},
     "output_type": "execute_result"
    }
   ],
   "source": [
    "# Checking the null values for the DF\n",
    "\n",
    "pd.isnull(df).sum()"
   ]
  },
  {
   "cell_type": "code",
   "execution_count": 8,
   "id": "d7676ac3",
   "metadata": {},
   "outputs": [
    {
     "name": "stdout",
     "output_type": "stream",
     "text": [
      "<class 'pandas.core.frame.DataFrame'>\n",
      "RangeIndex: 627866 entries, 0 to 627865\n",
      "Data columns (total 15 columns):\n",
      " #   Column                  Non-Null Count   Dtype \n",
      "---  ------                  --------------   ----- \n",
      " 0   slno                    627866 non-null  int64 \n",
      " 1   modelDesc               627866 non-null  object\n",
      " 2   fuel                    615015 non-null  object\n",
      " 3   colour                  627547 non-null  object\n",
      " 4   vehicleClass            627866 non-null  object\n",
      " 5   makeYear                627866 non-null  object\n",
      " 6   seatCapacity            627866 non-null  int64 \n",
      " 7   insuranceValidity       627731 non-null  object\n",
      " 8   secondVehicle           627866 non-null  object\n",
      " 9   tempRegistrationNumber  627866 non-null  object\n",
      " 10  category                627866 non-null  object\n",
      " 11  makerName               627866 non-null  object\n",
      " 12  OfficeCd                627866 non-null  object\n",
      " 13  fromdate                627866 non-null  object\n",
      " 14  todate                  627866 non-null  object\n",
      "dtypes: int64(2), object(13)\n",
      "memory usage: 71.9+ MB\n"
     ]
    }
   ],
   "source": [
    "df.info()"
   ]
  },
  {
   "cell_type": "code",
   "execution_count": 9,
   "id": "ab1c4ac9",
   "metadata": {},
   "outputs": [
    {
     "data": {
      "text/plain": [
       "array(['PETROL', 'BATTERY', 'CNG PETROL', 'DIESEL', nan, 'PETROL LPG',\n",
       "       '-1', 'CNG', 'PETROL CNG', 'PETROL ELECTRIC', 'LPG'], dtype=object)"
      ]
     },
     "execution_count": 9,
     "metadata": {},
     "output_type": "execute_result"
    }
   ],
   "source": [
    "# Checking the unique value in the \"fuel\" column\n",
    "\n",
    "df['fuel'].unique()\n",
    "\n",
    "# Found the value of nan and -1"
   ]
  },
  {
   "cell_type": "code",
   "execution_count": 10,
   "id": "8ba634e5",
   "metadata": {},
   "outputs": [
    {
     "data": {
      "text/plain": [
       "fuel\n",
       "PETROL             477920\n",
       "DIESEL              78600\n",
       "BATTERY             36508\n",
       "CNG PETROL          15571\n",
       "PETROL LPG           3951\n",
       "CNG                  2117\n",
       "-1                    197\n",
       "PETROL ELECTRIC        87\n",
       "PETROL CNG             51\n",
       "LPG                    13\n",
       "Name: count, dtype: int64"
      ]
     },
     "execution_count": 10,
     "metadata": {},
     "output_type": "execute_result"
    }
   ],
   "source": [
    "# Checking the values for fuel\n",
    "\n",
    "df['fuel'].value_counts()"
   ]
  },
  {
   "cell_type": "code",
   "execution_count": 11,
   "id": "62ef2ebc",
   "metadata": {
    "scrolled": true
   },
   "outputs": [
    {
     "data": {
      "text/plain": [
       "array(['MOTOR CYCLE', 'MOTOR CAR', 'Motor Cab',\n",
       "       'Three Wheeled Goods Vehicle', 'Auto Rickshaw', 'Goods Carriage',\n",
       "       'Chassis Transport', 'Tractor for Agricultural Purpose',\n",
       "       'Tractor for Commercial Use', 'Ominibus',\n",
       "       'Trailer For Commercial Use', 'Maxi Cab',\n",
       "       'Trailer for Agriculture Purpose',\n",
       "       'Vehicle Fitted with Construction Equipment',\n",
       "       'Self Loading Concrete Mixer', 'Motor Cycle for Hire',\n",
       "       'Omnibus for Private Use', 'Loader', 'Fork Lift', 'Ambulance',\n",
       "       'MOTOR GRADER', 'Tractor Driven Combined Harvester', 'Road Roller',\n",
       "       'Crane For Private Use', 'SELF PROPELLED HARVESTER',\n",
       "       'Articulated Vehicles', 'Auto Rikckshaw Private',\n",
       "       'Mopeds and Motorised Cycle'], dtype=object)"
      ]
     },
     "execution_count": 11,
     "metadata": {},
     "output_type": "execute_result"
    }
   ],
   "source": [
    "#Checking the values for vehicleClass\n",
    "\n",
    "df['vehicleClass'].unique()"
   ]
  },
  {
   "cell_type": "markdown",
   "id": "920bad83",
   "metadata": {},
   "source": [
    "### Since we have fuel '-1', we have to find matching vehicleClass column, we can use it by 2 methods"
   ]
  },
  {
   "cell_type": "code",
   "execution_count": 12,
   "id": "ed75093c",
   "metadata": {},
   "outputs": [
    {
     "data": {
      "text/plain": [
       "vehicleClass\n",
       "Trailer For Commercial Use         110\n",
       "Trailer for Agriculture Purpose     85\n",
       "MOTOR CAR                            2\n",
       "Name: count, dtype: int64"
      ]
     },
     "execution_count": 12,
     "metadata": {},
     "output_type": "execute_result"
    }
   ],
   "source": [
    "# Method - 1\n",
    "# Locating the vehicleClass where the fuel value is -1\n",
    "\n",
    "df.loc[df['fuel'] == '-1', 'vehicleClass'].value_counts()"
   ]
  },
  {
   "cell_type": "code",
   "execution_count": 13,
   "id": "310b14d7",
   "metadata": {
    "scrolled": true
   },
   "outputs": [
    {
     "data": {
      "text/plain": [
       "Index(['Trailer For Commercial Use', 'Trailer for Agriculture Purpose',\n",
       "       'MOTOR CAR'],\n",
       "      dtype='object', name='vehicleClass')"
      ]
     },
     "execution_count": 13,
     "metadata": {},
     "output_type": "execute_result"
    }
   ],
   "source": [
    "# Getting the index for the above\n",
    "\n",
    "df.loc[df['fuel'] == '-1', 'vehicleClass'].value_counts().index"
   ]
  },
  {
   "cell_type": "code",
   "execution_count": 14,
   "id": "edc56ae5",
   "metadata": {
    "scrolled": true
   },
   "outputs": [
    {
     "data": {
      "text/plain": [
       "'DIESEL'"
      ]
     },
     "execution_count": 14,
     "metadata": {},
     "output_type": "execute_result"
    }
   ],
   "source": [
    "# Testing the mode of fuel based on the vehicle to fill up the fuel of -1\n",
    "\n",
    "df.loc[df['vehicleClass'] == 'Trailer For Commercial Use', 'fuel'].mode()[0]"
   ]
  },
  {
   "cell_type": "code",
   "execution_count": 15,
   "id": "77a99f0f",
   "metadata": {},
   "outputs": [],
   "source": [
    "# Method - 2\n",
    "\n",
    "# Grouping the value based on the fuel\n",
    "\n",
    "\n",
    "fuel_grp = df.groupby(['fuel'])"
   ]
  },
  {
   "cell_type": "code",
   "execution_count": 16,
   "id": "08746e2f",
   "metadata": {},
   "outputs": [],
   "source": [
    "# getting the vehicleClass based on the fuel \"-1\"\n",
    "\n",
    "fuel_index = fuel_grp['vehicleClass'].value_counts().loc['-1'].index"
   ]
  },
  {
   "cell_type": "code",
   "execution_count": 17,
   "id": "34fea5a1",
   "metadata": {},
   "outputs": [
    {
     "name": "stdout",
     "output_type": "stream",
     "text": [
      "Trailer For Commercial Use\n",
      "DIESEL\n",
      "Trailer for Agriculture Purpose\n",
      "else_part\n",
      "MOTOR CAR\n",
      "else_part\n"
     ]
    }
   ],
   "source": [
    "# Here I selected the Method 2 since i want to experience groupby function\n",
    "\n",
    "def handle_neg_fuel(df):\n",
    "    fuel_index = fuel_grp['vehicleClass'].value_counts().loc['-1'].index\n",
    "    for i in fuel_index:\n",
    "        print(i)\n",
    "        if(df['fuel']=='-1').any() and (df['vehicleClass'] == i).any():\n",
    "            print(df.loc[df['vehicleClass'] == i,'fuel'].mode()[0])\n",
    "            mode_fuel = df.loc[df['vehicleClass'] == i,'fuel'].mode()[0]\n",
    "            df.loc[df['fuel'] == '-1', 'fuel'] = mode_fuel\n",
    "        else:\n",
    "            print('else_part')\n",
    "handle_neg_fuel(df)"
   ]
  },
  {
   "cell_type": "code",
   "execution_count": 18,
   "id": "88f34000",
   "metadata": {},
   "outputs": [
    {
     "data": {
      "text/plain": [
       "Index([], dtype='object', name='vehicleClass')"
      ]
     },
     "execution_count": 18,
     "metadata": {},
     "output_type": "execute_result"
    }
   ],
   "source": [
    "# Checking if the -1 value is filled or not!!\n",
    "\n",
    "df.loc[df['fuel'] == '-1', 'vehicleClass'].value_counts().index\n",
    "\n",
    "# Since it showed the empty list we conform it changed"
   ]
  },
  {
   "cell_type": "code",
   "execution_count": 19,
   "id": "ba263ca0",
   "metadata": {},
   "outputs": [
    {
     "data": {
      "text/plain": [
       "slno                          0\n",
       "modelDesc                     0\n",
       "fuel                      12851\n",
       "colour                      319\n",
       "vehicleClass                  0\n",
       "makeYear                      0\n",
       "seatCapacity                  0\n",
       "insuranceValidity           135\n",
       "secondVehicle                 0\n",
       "tempRegistrationNumber        0\n",
       "category                      0\n",
       "makerName                     0\n",
       "OfficeCd                      0\n",
       "fromdate                      0\n",
       "todate                        0\n",
       "dtype: int64"
      ]
     },
     "execution_count": 19,
     "metadata": {},
     "output_type": "execute_result"
    }
   ],
   "source": [
    "# Checking the null value for entire dataset\n",
    "\n",
    "df.isnull().sum()\n",
    "\n",
    "# Found the null values on columns of\n",
    "    # 1) fuel\n",
    "    # 2) colour\n",
    "    # 3) insuranceValidity"
   ]
  },
  {
   "cell_type": "code",
   "execution_count": 20,
   "id": "f07dd98d",
   "metadata": {},
   "outputs": [],
   "source": [
    "# I want to check the unique value for columns, to check any custom null value like -- NA, None, Missing\n",
    "\n",
    "unique_df = df.isnull().sum().index"
   ]
  },
  {
   "cell_type": "code",
   "execution_count": 21,
   "id": "eebb0d25",
   "metadata": {},
   "outputs": [
    {
     "name": "stdout",
     "output_type": "stream",
     "text": [
      "slno\n",
      "Column name:  slno \n",
      " slno\n",
      "6046936     6\n",
      "2388424     6\n",
      "4562491     6\n",
      "5386623     6\n",
      "2670679     6\n",
      "           ..\n",
      "28475       1\n",
      "28474       1\n",
      "28473       1\n",
      "28472       1\n",
      "12053547    1\n",
      "Name: count, Length: 354701, dtype: int64\n",
      "\n",
      "\n",
      "modelDesc\n",
      "Column name:  modelDesc \n",
      " modelDesc\n",
      "ACTIVA - 6G DLX BSVI                             20336\n",
      "ACTIVA- DLX BSVI                                 19462\n",
      "PULSAR 150 DTS-I BSVI                            16290\n",
      "ACTIVA-DLX BSVI-PH2                              16231\n",
      "SHINE-125 DRUM BSVI                              14409\n",
      "                                                 ...  \n",
      "MAHINDRA YUVO 415 DI BSIIIA                          1\n",
      "MAHINDRA BOLERO NEO N10 (O) (R) BSVI                 1\n",
      "VERNA 1.5 CRDI MT S+ BSVI                            1\n",
      "LPT4825 10X2 TRK CHASS COWL WO WINSHIELD BSVI        1\n",
      "NINJA 300 BSVI-PH2                                   1\n",
      "Name: count, Length: 4365, dtype: int64\n",
      "\n",
      "\n",
      "fuel\n",
      "Column name:  fuel \n",
      " fuel\n",
      "PETROL             477920\n",
      "DIESEL              78797\n",
      "BATTERY             36508\n",
      "CNG PETROL          15571\n",
      "PETROL LPG           3951\n",
      "CNG                  2117\n",
      "PETROL ELECTRIC        87\n",
      "PETROL CNG             51\n",
      "LPG                    13\n",
      "Name: count, dtype: int64\n",
      "\n",
      "\n",
      "colour\n",
      "Column name:  colour \n",
      " colour\n",
      "BLACK                           29977\n",
      "SPARKLING METALLIC BLACK RED    15507\n",
      "DECENT BLUE METALLIC            15396\n",
      "GOLDEN YELLOW                   15233\n",
      "RED                             13049\n",
      "                                ...  \n",
      "SATIN PEARL WHIT                    1\n",
      "MATT AXIS GRAY METALL               1\n",
      "B GREY                              1\n",
      "WHITE CABIN & GLOAD BODY            1\n",
      "METALLIC  PREMIUM SILVER            1\n",
      "Name: count, Length: 5959, dtype: int64\n",
      "\n",
      "\n",
      "vehicleClass\n",
      "Column name:  vehicleClass \n",
      " vehicleClass\n",
      "MOTOR CYCLE                                   415814\n",
      "MOTOR CAR                                     113496\n",
      "Auto Rickshaw                                  21451\n",
      "Goods Carriage                                 15781\n",
      "Tractor for Agricultural Purpose               14962\n",
      "Motor Cab                                       9586\n",
      "Tractor for Commercial Use                      8184\n",
      "Trailer For Commercial Use                      7435\n",
      "Trailer for Agriculture Purpose                 5979\n",
      "Three Wheeled Goods Vehicle                     4998\n",
      "Chassis Transport                               3865\n",
      "Ominibus                                        2302\n",
      "Motor Cycle for Hire                             911\n",
      "Vehicle Fitted with Construction Equipment       788\n",
      "Omnibus for Private Use                          689\n",
      "Maxi Cab                                         640\n",
      "Tractor Driven Combined Harvester                206\n",
      "Loader                                           175\n",
      "Ambulance                                        155\n",
      "Articulated Vehicles                             146\n",
      "Self Loading Concrete Mixer                       94\n",
      "SELF PROPELLED HARVESTER                          82\n",
      "Crane For Private Use                             45\n",
      "Road Roller                                       42\n",
      "Fork Lift                                         19\n",
      "Auto Rikckshaw Private                            12\n",
      "MOTOR GRADER                                       6\n",
      "Mopeds and Motorised Cycle                         3\n",
      "Name: count, dtype: int64\n",
      "\n",
      "\n",
      "makeYear\n",
      "Column name:  makeYear \n",
      " makeYear\n",
      "01/01/2023    123637\n",
      "01/03/2023    103516\n",
      "01/02/2023     98191\n",
      "01/04/2023     84969\n",
      "01/12/2022     52178\n",
      "01/11/2022     44973\n",
      "01/05/2023     34558\n",
      "01/10/2022     26909\n",
      "01/09/2022     17886\n",
      "01/08/2022     13772\n",
      "01/07/2022      8626\n",
      "01/06/2022      4149\n",
      "01/04/2022      3916\n",
      "01/05/2022      2869\n",
      "01/03/2022      1827\n",
      "01/01/2022      1494\n",
      "01/02/2022      1423\n",
      "01/11/2021       454\n",
      "01/10/2021       303\n",
      "01/09/2021       268\n",
      "01/01/2021       243\n",
      "01/02/2021       227\n",
      "01/12/2021       223\n",
      "01/08/2021       223\n",
      "01/07/2021       180\n",
      "01/03/2021       179\n",
      "01/04/2021       108\n",
      "01/10/2020        80\n",
      "01/06/2021        77\n",
      "01/05/2021        54\n",
      "01/08/2020        49\n",
      "00:00.0           47\n",
      "01/09/2020        43\n",
      "01/03/2020        38\n",
      "01/12/2020        36\n",
      "01/02/2020        30\n",
      "01/07/2020        25\n",
      "01/01/2020        22\n",
      "01/11/2020        22\n",
      "01/06/2020        12\n",
      "01/11/2019        10\n",
      "01/02/2014         4\n",
      "01/12/2019         3\n",
      "01/02/2019         3\n",
      "01/04/2017         2\n",
      "01/09/2019         2\n",
      "01/03/2003         2\n",
      "01/10/2000         2\n",
      "01/04/2020         2\n",
      "Name: count, dtype: int64\n",
      "\n",
      "\n",
      "seatCapacity\n",
      "Column name:  seatCapacity \n",
      " seatCapacity\n",
      "2     428383\n",
      "5     101557\n",
      "1      32632\n",
      "4      23491\n",
      "7      17381\n",
      "0      13414\n",
      "3       4503\n",
      "6       2791\n",
      "8       1087\n",
      "42       263\n",
      "40       260\n",
      "53       211\n",
      "43       192\n",
      "41       141\n",
      "10       134\n",
      "52       114\n",
      "36       105\n",
      "33        99\n",
      "39        99\n",
      "13        97\n",
      "32        86\n",
      "54        76\n",
      "11        72\n",
      "22        62\n",
      "48        55\n",
      "27        48\n",
      "19        46\n",
      "51        46\n",
      "18        45\n",
      "14        42\n",
      "31        32\n",
      "45        30\n",
      "37        26\n",
      "56        23\n",
      "63        23\n",
      "25        20\n",
      "50        20\n",
      "47        19\n",
      "59        19\n",
      "20        16\n",
      "12        15\n",
      "38        14\n",
      "35        13\n",
      "60        13\n",
      "16        12\n",
      "9          9\n",
      "23         7\n",
      "24         7\n",
      "28         6\n",
      "26         4\n",
      "17         2\n",
      "61         2\n",
      "29         2\n",
      "Name: count, dtype: int64\n",
      "\n",
      "\n",
      "insuranceValidity\n",
      "Column name:  insuranceValidity \n",
      " insuranceValidity\n",
      "22/03/2028    5642\n",
      "23/03/2028    5450\n",
      "26/01/2028    5020\n",
      "21/03/2028    4937\n",
      "27/01/2028    4471\n",
      "              ... \n",
      "20/08/2028       1\n",
      "17/02/2202       1\n",
      "26/06/2027       1\n",
      "06/08/2026       1\n",
      "01/06/2028       1\n",
      "Name: count, Length: 1540, dtype: int64\n",
      "\n",
      "\n",
      "secondVehicle\n",
      "Column name:  secondVehicle \n",
      " secondVehicle\n",
      "N    563883\n",
      "Y     63983\n",
      "Name: count, dtype: int64\n",
      "\n",
      "\n",
      "tempRegistrationNumber\n",
      "Column name:  tempRegistrationNumber \n",
      " tempRegistrationNumber\n",
      "TS11AGTR3069    2\n",
      "TS33FTR2622     2\n",
      "TS08DBTR3271    2\n",
      "TS12PTR5687     2\n",
      "TS11AGTR9796    2\n",
      "               ..\n",
      "TS24LTR0102     1\n",
      "TS24LTR0092     1\n",
      "TS24LTR0096     1\n",
      "TS09FUTR8364    1\n",
      "TS08DCTR9575    1\n",
      "Name: count, Length: 358857, dtype: int64\n",
      "\n",
      "\n",
      "category\n",
      "Column name:  category \n",
      " category\n",
      "Non Transport    552412\n",
      "Transport         75454\n",
      "Name: count, dtype: int64\n",
      "\n",
      "\n",
      "makerName\n",
      "Column name:  makerName \n",
      " makerName\n",
      "HONDA MOTORCYCLE&SCOOTER(I)P L         147007\n",
      "BAJAJ AUTO LTD                          89031\n",
      "TVS MOTOR COMPANY LTD                   61364\n",
      "HERO MOTOCORP LTD                       53017\n",
      "MARUTI SUZUKI INDIA LTD.,               48901\n",
      "                                        ...  \n",
      "K.S.AGRICULTURAL INDUSTRIES                 2\n",
      "M/S SRI SAI KIRAN ENGINEERING WORKS         2\n",
      "TIRTH AGRO TECHNOLOGY PVT LTD               2\n",
      "UDAYA LAKSHMI ENGG WORKS KMM                1\n",
      "M/S DELTA AUTOCORP LLP                      1\n",
      "Name: count, Length: 528, dtype: int64\n",
      "\n",
      "\n",
      "OfficeCd\n",
      "Column name:  OfficeCd \n",
      " OfficeCd\n",
      "RTA RANGAREDDY              63046\n",
      "RTA UPPAL                   41788\n",
      "RTA-HYDERABAD-CZ            39932\n",
      "RTA IBRAHIMPATNAM           39688\n",
      "RTA MEDCHAL                 39028\n",
      "RTA-HYDERABAD-SZ            22567\n",
      "RTA-HYDERABAD-NZ            21665\n",
      "UNIT OFFICE KUKATPALLY      21548\n",
      "RTA-HYDERABAD-WZ            20508\n",
      "RTA-HYDERABAD-EZ            16899\n",
      "RTA KHAMMAM                 13070\n",
      "UNIT OFFICE PATANCHERUVU    12766\n",
      "RTA NALGONDA                12342\n",
      "RTA SANGAREDDY              12141\n",
      "RTA HANUMAKONDA             11217\n",
      "RTA SIDDIPET                11125\n",
      "RTA MAHABOOBNAGAR           10892\n",
      "RTA WARANGAL                10153\n",
      "RTA YADADRI                 10027\n",
      "RTA KARIMNAGAR               9656\n",
      "UNIT OFFICE PARGI            9491\n",
      "RTA SURYAPET                 9368\n",
      "RTA KAMAREDDY                9168\n",
      "RTA BHADRADRI                8923\n",
      "RTA NIZAMABAD                8817\n",
      "RTA MAHABUBABAD              8030\n",
      "RTA MEDAK                    7898\n",
      "RTA MANCHERIAL               7704\n",
      "UNIT OFFICE MIRYALAGUDA      7012\n",
      "RTA NAGARKURNOOL             6986\n",
      "RTA JAYASHANKAR              6984\n",
      "RTA ADILABAD                 6981\n",
      "RTA NIRMAL                   6753\n",
      "RTA VIKARABAD                5944\n",
      "RTA JOGULAMBA                5638\n",
      "RTA NARAYANPET               5379\n",
      "RTA JANGOAN                  5311\n",
      "UNIT OFFICE ZAHIRABAD        5143\n",
      "RTA KOMRAMBHEEM              5035\n",
      "RTA RAJANNA                  4798\n",
      "UNIT OFFICE ARMOOR           4678\n",
      "RTA WANAPARTHY               4565\n",
      "UNIT OFFICE KODAD            4500\n",
      "RTA JAGITYAL                 4428\n",
      "RTA PEDDAPALLI               4378\n",
      "UNIT OFFICE BHADRACHALAM     4071\n",
      "UNIT OFFICE WYRA             3215\n",
      "UNIT OFFICE KORUTLA          3200\n",
      "UNIT OFFICE BHODAN           3066\n",
      "UNIT OFFICE SATTUPALLI       2490\n",
      "UNIT OFFICE RAMAGUNDAM       2325\n",
      "UNIT OFFICE HUZURABAD        2266\n",
      "UNIT OFFICE KALWAKURTHY      1723\n",
      "UNIT OFFICE PEBBAIR          1050\n",
      "UNIT OFFICE SHADNAGAR         490\n",
      "Name: count, dtype: int64\n",
      "\n",
      "\n",
      "fromdate\n",
      "Column name:  fromdate \n",
      " fromdate\n",
      "30/03/2023    9072\n",
      "23/03/2023    8399\n",
      "24/03/2023    8297\n",
      "30/05/2023    7626\n",
      "27/01/2023    7445\n",
      "              ... \n",
      "05/02/2023     339\n",
      "26/02/2023     258\n",
      "12/02/2023     209\n",
      "19/02/2023     178\n",
      "28/02/23        47\n",
      "Name: count, Length: 148, dtype: int64\n",
      "\n",
      "\n",
      "todate\n",
      "Column name:  todate \n",
      " todate\n",
      "31/03/2023    9072\n",
      "24/03/2023    8399\n",
      "25/03/2023    8297\n",
      "31/05/2023    7626\n",
      "28/01/2023    7445\n",
      "              ... \n",
      "05/02/2023     339\n",
      "26/02/2023     258\n",
      "12/02/2023     209\n",
      "19/02/2023     178\n",
      "28/02/23        47\n",
      "Name: count, Length: 148, dtype: int64\n",
      "\n",
      "\n"
     ]
    }
   ],
   "source": [
    "# checking the unique value with for loop\n",
    "\n",
    "def check_null(df):\n",
    "    for i in unique_df:\n",
    "        print(i)\n",
    "        print('Column name: ', i,'\\n', df[i].value_counts())\n",
    "        print('\\n')\n",
    "check_null(df)"
   ]
  },
  {
   "cell_type": "markdown",
   "id": "f5c97be2",
   "metadata": {},
   "source": [
    "## We couldn't found any custom null value so we can start to fill the column one by one\n",
    "\n",
    "## Start with fuel null to fill it out"
   ]
  },
  {
   "cell_type": "code",
   "execution_count": 22,
   "id": "e84b63f6",
   "metadata": {
    "scrolled": true
   },
   "outputs": [
    {
     "data": {
      "text/plain": [
       "fuel             vehicleClass                   \n",
       "-1               Trailer For Commercial Use           110\n",
       "                 Trailer for Agriculture Purpose       85\n",
       "                 MOTOR CAR                              2\n",
       "BATTERY          MOTOR CYCLE                        28775\n",
       "                 MOTOR CAR                           5150\n",
       "                                                    ...  \n",
       "PETROL ELECTRIC  MOTOR CAR                             73\n",
       "                 Motor Cab                             14\n",
       "PETROL LPG       Auto Rickshaw                       3943\n",
       "                 Auto Rikckshaw Private                 7\n",
       "                 Three Wheeled Goods Vehicle            1\n",
       "Name: count, Length: 64, dtype: int64"
      ]
     },
     "execution_count": 22,
     "metadata": {},
     "output_type": "execute_result"
    }
   ],
   "source": [
    "# As we already gouped fuel we can get mode of vehicleClass as we did already\n",
    "\n",
    "fuel_grp['vehicleClass'].value_counts()\n",
    "\n",
    "# Since we haven't updated the groupby object we are still having the \"-1\", so we cant use it further"
   ]
  },
  {
   "cell_type": "code",
   "execution_count": 23,
   "id": "a31e5187",
   "metadata": {},
   "outputs": [],
   "source": [
    "# So what is the learning here?\n",
    "# The groupby object is not updated we cant use it further, so we have to use the Method 2\n",
    "# But it can be useful when we are getting values not suitable for updating it\n",
    "# else we have to update the groupby object each and everytime"
   ]
  },
  {
   "cell_type": "code",
   "execution_count": 24,
   "id": "fde9ab9e",
   "metadata": {},
   "outputs": [
    {
     "data": {
      "text/plain": [
       "0         False\n",
       "1         False\n",
       "2         False\n",
       "3         False\n",
       "4         False\n",
       "          ...  \n",
       "627861    False\n",
       "627862    False\n",
       "627863    False\n",
       "627864    False\n",
       "627865    False\n",
       "Name: fuel, Length: 627866, dtype: bool"
      ]
     },
     "execution_count": 24,
     "metadata": {},
     "output_type": "execute_result"
    }
   ],
   "source": [
    "#getting the fuel null velues to match the VehicleClass Column\n",
    "df['fuel'].isnull()\n"
   ]
  },
  {
   "cell_type": "code",
   "execution_count": 25,
   "id": "ba26d4e0",
   "metadata": {},
   "outputs": [
    {
     "data": {
      "text/plain": [
       "Index(['Trailer For Commercial Use', 'Trailer for Agriculture Purpose',\n",
       "       'Tractor for Commercial Use', 'Tractor for Agricultural Purpose',\n",
       "       'MOTOR CAR'],\n",
       "      dtype='object', name='vehicleClass')"
      ]
     },
     "execution_count": 25,
     "metadata": {},
     "output_type": "execute_result"
    }
   ],
   "source": [
    "# Matching the fuel null with respective vehicle_Class\n",
    "df[df['fuel'].isnull()]['vehicleClass'].value_counts().index"
   ]
  },
  {
   "cell_type": "code",
   "execution_count": 26,
   "id": "0c3ac5d0",
   "metadata": {},
   "outputs": [
    {
     "data": {
      "text/html": [
       "<div>\n",
       "<style scoped>\n",
       "    .dataframe tbody tr th:only-of-type {\n",
       "        vertical-align: middle;\n",
       "    }\n",
       "\n",
       "    .dataframe tbody tr th {\n",
       "        vertical-align: top;\n",
       "    }\n",
       "\n",
       "    .dataframe thead th {\n",
       "        text-align: right;\n",
       "    }\n",
       "</style>\n",
       "<table border=\"1\" class=\"dataframe\">\n",
       "  <thead>\n",
       "    <tr style=\"text-align: right;\">\n",
       "      <th></th>\n",
       "      <th>slno</th>\n",
       "      <th>modelDesc</th>\n",
       "      <th>fuel</th>\n",
       "      <th>colour</th>\n",
       "      <th>vehicleClass</th>\n",
       "      <th>makeYear</th>\n",
       "      <th>seatCapacity</th>\n",
       "      <th>insuranceValidity</th>\n",
       "      <th>secondVehicle</th>\n",
       "      <th>tempRegistrationNumber</th>\n",
       "      <th>category</th>\n",
       "      <th>makerName</th>\n",
       "      <th>OfficeCd</th>\n",
       "      <th>fromdate</th>\n",
       "      <th>todate</th>\n",
       "    </tr>\n",
       "  </thead>\n",
       "  <tbody>\n",
       "    <tr>\n",
       "      <th>236</th>\n",
       "      <td>1520606</td>\n",
       "      <td>5 TONS 2 WHEELER SEMI TIPPING T IRON BODY</td>\n",
       "      <td>NaN</td>\n",
       "      <td>RED AND BLACK</td>\n",
       "      <td>Trailer For Commercial Use</td>\n",
       "      <td>01/12/2022</td>\n",
       "      <td>0</td>\n",
       "      <td>16/12/2023</td>\n",
       "      <td>N</td>\n",
       "      <td>TS21CTR8988</td>\n",
       "      <td>Transport</td>\n",
       "      <td>BHAVANI ENGINEERING WORKS JAGITYAL</td>\n",
       "      <td>RTA RAJANNA</td>\n",
       "      <td>01/01/2023</td>\n",
       "      <td>02/01/2023</td>\n",
       "    </tr>\n",
       "    <tr>\n",
       "      <th>765</th>\n",
       "      <td>3304280</td>\n",
       "      <td>5 TONS 2 WHEELER SEMI TIPPING T IRON BODY</td>\n",
       "      <td>NaN</td>\n",
       "      <td>OREANGE AND YELLOW</td>\n",
       "      <td>Trailer For Commercial Use</td>\n",
       "      <td>01/12/2022</td>\n",
       "      <td>0</td>\n",
       "      <td>17/12/2023</td>\n",
       "      <td>N</td>\n",
       "      <td>TS29JTR6375</td>\n",
       "      <td>Transport</td>\n",
       "      <td>KISAN INDUSTRIES SURYAPET</td>\n",
       "      <td>RTA SURYAPET</td>\n",
       "      <td>01/01/2023</td>\n",
       "      <td>02/01/2023</td>\n",
       "    </tr>\n",
       "    <tr>\n",
       "      <th>912</th>\n",
       "      <td>3307734</td>\n",
       "      <td>5TONS 2WH TRAILERS</td>\n",
       "      <td>NaN</td>\n",
       "      <td>BLUE&amp;YELLOW</td>\n",
       "      <td>Trailer For Commercial Use</td>\n",
       "      <td>01/09/2022</td>\n",
       "      <td>0</td>\n",
       "      <td>01/01/2024</td>\n",
       "      <td>N</td>\n",
       "      <td>TS36DTR8407</td>\n",
       "      <td>Transport</td>\n",
       "      <td>KUMARASWAMY AGRO INDUSTRIES</td>\n",
       "      <td>RTA SIDDIPET</td>\n",
       "      <td>01/01/2023</td>\n",
       "      <td>02/01/2023</td>\n",
       "    </tr>\n",
       "    <tr>\n",
       "      <th>923</th>\n",
       "      <td>3812843</td>\n",
       "      <td>5TON 2 WHEELER SEMI TIPPING TRAILER</td>\n",
       "      <td>NaN</td>\n",
       "      <td>RED&amp; YELLOW</td>\n",
       "      <td>Trailer For Commercial Use</td>\n",
       "      <td>01/12/2022</td>\n",
       "      <td>0</td>\n",
       "      <td>02/01/2024</td>\n",
       "      <td>N</td>\n",
       "      <td>TS04ALTR3319</td>\n",
       "      <td>Transport</td>\n",
       "      <td>M/S BHAGYALAKSHMI ENGINEERING WORKS</td>\n",
       "      <td>RTA BHADRADRI</td>\n",
       "      <td>01/01/2023</td>\n",
       "      <td>02/01/2023</td>\n",
       "    </tr>\n",
       "    <tr>\n",
       "      <th>953</th>\n",
       "      <td>4464092</td>\n",
       "      <td>TWO WHEELER TRAILOR TIPPING - 5 TONNS</td>\n",
       "      <td>NaN</td>\n",
       "      <td>ORANGE</td>\n",
       "      <td>Trailer For Commercial Use</td>\n",
       "      <td>01/12/2022</td>\n",
       "      <td>0</td>\n",
       "      <td>26/12/2023</td>\n",
       "      <td>N</td>\n",
       "      <td>TS06ARTR4293</td>\n",
       "      <td>Transport</td>\n",
       "      <td>M/S SRI BADESHWARA ARGO INDUSTRIES</td>\n",
       "      <td>RTA NARAYANPET</td>\n",
       "      <td>01/01/2023</td>\n",
       "      <td>02/01/2023</td>\n",
       "    </tr>\n",
       "  </tbody>\n",
       "</table>\n",
       "</div>"
      ],
      "text/plain": [
       "        slno                                  modelDesc fuel  \\\n",
       "236  1520606  5 TONS 2 WHEELER SEMI TIPPING T IRON BODY  NaN   \n",
       "765  3304280  5 TONS 2 WHEELER SEMI TIPPING T IRON BODY  NaN   \n",
       "912  3307734                         5TONS 2WH TRAILERS  NaN   \n",
       "923  3812843        5TON 2 WHEELER SEMI TIPPING TRAILER  NaN   \n",
       "953  4464092      TWO WHEELER TRAILOR TIPPING - 5 TONNS  NaN   \n",
       "\n",
       "                 colour                vehicleClass    makeYear  seatCapacity  \\\n",
       "236       RED AND BLACK  Trailer For Commercial Use  01/12/2022             0   \n",
       "765  OREANGE AND YELLOW  Trailer For Commercial Use  01/12/2022             0   \n",
       "912         BLUE&YELLOW  Trailer For Commercial Use  01/09/2022             0   \n",
       "923         RED& YELLOW  Trailer For Commercial Use  01/12/2022             0   \n",
       "953              ORANGE  Trailer For Commercial Use  01/12/2022             0   \n",
       "\n",
       "    insuranceValidity secondVehicle tempRegistrationNumber   category  \\\n",
       "236        16/12/2023             N            TS21CTR8988  Transport   \n",
       "765        17/12/2023             N            TS29JTR6375  Transport   \n",
       "912        01/01/2024             N            TS36DTR8407  Transport   \n",
       "923        02/01/2024             N           TS04ALTR3319  Transport   \n",
       "953        26/12/2023             N           TS06ARTR4293  Transport   \n",
       "\n",
       "                               makerName        OfficeCd    fromdate  \\\n",
       "236   BHAVANI ENGINEERING WORKS JAGITYAL     RTA RAJANNA  01/01/2023   \n",
       "765            KISAN INDUSTRIES SURYAPET    RTA SURYAPET  01/01/2023   \n",
       "912          KUMARASWAMY AGRO INDUSTRIES    RTA SIDDIPET  01/01/2023   \n",
       "923  M/S BHAGYALAKSHMI ENGINEERING WORKS   RTA BHADRADRI  01/01/2023   \n",
       "953   M/S SRI BADESHWARA ARGO INDUSTRIES  RTA NARAYANPET  01/01/2023   \n",
       "\n",
       "         todate  \n",
       "236  02/01/2023  \n",
       "765  02/01/2023  \n",
       "912  02/01/2023  \n",
       "923  02/01/2023  \n",
       "953  02/01/2023  "
      ]
     },
     "execution_count": 26,
     "metadata": {},
     "output_type": "execute_result"
    }
   ],
   "source": [
    "# Checking out the results for match with a vehicle with fuel of Null value\n",
    "df.loc[(df['vehicleClass']=='Trailer For Commercial Use') & (df['fuel'].isnull())].head()"
   ]
  },
  {
   "cell_type": "code",
   "execution_count": 27,
   "id": "0b5fd41b",
   "metadata": {},
   "outputs": [
    {
     "data": {
      "text/plain": [
       "236    NaN\n",
       "765    NaN\n",
       "912    NaN\n",
       "923    NaN\n",
       "953    NaN\n",
       "Name: fuel, dtype: object"
      ]
     },
     "execution_count": 27,
     "metadata": {},
     "output_type": "execute_result"
    }
   ],
   "source": [
    "# Checking the null value in the fuel column\n",
    "df.loc[(df['fuel'].isnull()),'fuel'].head(5)"
   ]
  },
  {
   "cell_type": "code",
   "execution_count": 28,
   "id": "58e9d6e5",
   "metadata": {},
   "outputs": [
    {
     "data": {
      "text/plain": [
       "Index(['PETROL', 'DIESEL', 'BATTERY', 'CNG PETROL', 'PETROL LPG', 'CNG',\n",
       "       'PETROL ELECTRIC', 'PETROL CNG', 'LPG'],\n",
       "      dtype='object', name='fuel')"
      ]
     },
     "execution_count": 28,
     "metadata": {},
     "output_type": "execute_result"
    }
   ],
   "source": [
    "df['fuel'].value_counts().index"
   ]
  },
  {
   "cell_type": "code",
   "execution_count": 29,
   "id": "738138d8",
   "metadata": {},
   "outputs": [
    {
     "data": {
      "text/plain": [
       "236       NaN\n",
       "765       NaN\n",
       "912       NaN\n",
       "923       NaN\n",
       "953       NaN\n",
       "         ... \n",
       "626755    NaN\n",
       "627193    NaN\n",
       "627270    NaN\n",
       "627462    NaN\n",
       "627546    NaN\n",
       "Name: fuel, Length: 7140, dtype: object"
      ]
     },
     "execution_count": 29,
     "metadata": {},
     "output_type": "execute_result"
    }
   ],
   "source": [
    "df.loc[(df['vehicleClass']=='Trailer For Commercial Use') & (df['fuel'].isnull()),'fuel']"
   ]
  },
  {
   "cell_type": "code",
   "execution_count": 30,
   "id": "e6c4635d",
   "metadata": {},
   "outputs": [
    {
     "name": "stdout",
     "output_type": "stream",
     "text": [
      "Trailer For Commercial Use DIESEL\n",
      "Trailer for Agriculture Purpose DIESEL\n",
      "Tractor for Commercial Use DIESEL\n",
      "Tractor for Agricultural Purpose DIESEL\n",
      "MOTOR CAR PETROL\n"
     ]
    }
   ],
   "source": [
    "def handle_fuel_null(df):\n",
    "    null_val = df[df['fuel'].isnull()]['vehicleClass'].value_counts().index\n",
    "    for i in null_val:\n",
    "        #filt = df['vehicleClass'] == i\n",
    "        fuel_got = df[df['vehicleClass']==i]['fuel'].mode()[0]\n",
    "        df.loc[(df['vehicleClass']==i) & (df['fuel'].isnull()),'fuel'] = fuel_got\n",
    "        print(i,fuel_got)\n",
    "handle_fuel_null(df)"
   ]
  },
  {
   "cell_type": "code",
   "execution_count": 31,
   "id": "1f7e6fc9",
   "metadata": {},
   "outputs": [
    {
     "data": {
      "text/html": [
       "<div>\n",
       "<style scoped>\n",
       "    .dataframe tbody tr th:only-of-type {\n",
       "        vertical-align: middle;\n",
       "    }\n",
       "\n",
       "    .dataframe tbody tr th {\n",
       "        vertical-align: top;\n",
       "    }\n",
       "\n",
       "    .dataframe thead th {\n",
       "        text-align: right;\n",
       "    }\n",
       "</style>\n",
       "<table border=\"1\" class=\"dataframe\">\n",
       "  <thead>\n",
       "    <tr style=\"text-align: right;\">\n",
       "      <th></th>\n",
       "      <th>slno</th>\n",
       "      <th>modelDesc</th>\n",
       "      <th>fuel</th>\n",
       "      <th>colour</th>\n",
       "      <th>vehicleClass</th>\n",
       "      <th>makeYear</th>\n",
       "      <th>seatCapacity</th>\n",
       "      <th>insuranceValidity</th>\n",
       "      <th>secondVehicle</th>\n",
       "      <th>tempRegistrationNumber</th>\n",
       "      <th>category</th>\n",
       "      <th>makerName</th>\n",
       "      <th>OfficeCd</th>\n",
       "      <th>fromdate</th>\n",
       "      <th>todate</th>\n",
       "    </tr>\n",
       "  </thead>\n",
       "  <tbody>\n",
       "    <tr>\n",
       "      <th>912</th>\n",
       "      <td>3307734</td>\n",
       "      <td>5TONS 2WH TRAILERS</td>\n",
       "      <td>DIESEL</td>\n",
       "      <td>BLUE&amp;YELLOW</td>\n",
       "      <td>Trailer For Commercial Use</td>\n",
       "      <td>01/09/2022</td>\n",
       "      <td>0</td>\n",
       "      <td>01/01/2024</td>\n",
       "      <td>N</td>\n",
       "      <td>TS36DTR8407</td>\n",
       "      <td>Transport</td>\n",
       "      <td>KUMARASWAMY AGRO INDUSTRIES</td>\n",
       "      <td>RTA SIDDIPET</td>\n",
       "      <td>01/01/2023</td>\n",
       "      <td>02/01/2023</td>\n",
       "    </tr>\n",
       "    <tr>\n",
       "      <th>4738</th>\n",
       "      <td>3307734</td>\n",
       "      <td>5TONS 2WH TRAILERS</td>\n",
       "      <td>DIESEL</td>\n",
       "      <td>BLUE&amp;YELLOW</td>\n",
       "      <td>Trailer For Commercial Use</td>\n",
       "      <td>01/09/2022</td>\n",
       "      <td>0</td>\n",
       "      <td>01/01/2024</td>\n",
       "      <td>N</td>\n",
       "      <td>TS36DTR8407</td>\n",
       "      <td>Transport</td>\n",
       "      <td>KUMARASWAMY AGRO INDUSTRIES</td>\n",
       "      <td>RTA SIDDIPET</td>\n",
       "      <td>02/01/2023</td>\n",
       "      <td>03/01/2023</td>\n",
       "    </tr>\n",
       "  </tbody>\n",
       "</table>\n",
       "</div>"
      ],
      "text/plain": [
       "         slno           modelDesc    fuel       colour  \\\n",
       "912   3307734  5TONS 2WH TRAILERS  DIESEL  BLUE&YELLOW   \n",
       "4738  3307734  5TONS 2WH TRAILERS  DIESEL  BLUE&YELLOW   \n",
       "\n",
       "                    vehicleClass    makeYear  seatCapacity insuranceValidity  \\\n",
       "912   Trailer For Commercial Use  01/09/2022             0        01/01/2024   \n",
       "4738  Trailer For Commercial Use  01/09/2022             0        01/01/2024   \n",
       "\n",
       "     secondVehicle tempRegistrationNumber   category  \\\n",
       "912              N            TS36DTR8407  Transport   \n",
       "4738             N            TS36DTR8407  Transport   \n",
       "\n",
       "                        makerName      OfficeCd    fromdate      todate  \n",
       "912   KUMARASWAMY AGRO INDUSTRIES  RTA SIDDIPET  01/01/2023  02/01/2023  \n",
       "4738  KUMARASWAMY AGRO INDUSTRIES  RTA SIDDIPET  02/01/2023  03/01/2023  "
      ]
     },
     "execution_count": 31,
     "metadata": {},
     "output_type": "execute_result"
    }
   ],
   "source": [
    "df.loc[df['slno']==3307734]"
   ]
  },
  {
   "cell_type": "markdown",
   "id": "b154a370",
   "metadata": {},
   "source": [
    "## Now fill the null value for colour"
   ]
  },
  {
   "cell_type": "code",
   "execution_count": 32,
   "id": "35e89827",
   "metadata": {},
   "outputs": [
    {
     "data": {
      "text/plain": [
       "vehicleClass\n",
       "Chassis Transport    319\n",
       "Name: count, dtype: int64"
      ]
     },
     "execution_count": 32,
     "metadata": {},
     "output_type": "execute_result"
    }
   ],
   "source": [
    "## Checking out the null values in the Coloru with vehicle class\n",
    "\n",
    "df.loc[(df['colour'].isnull()),'vehicleClass'].value_counts()\n",
    "\n",
    "# we found only the Chassis Transport has null value"
   ]
  },
  {
   "cell_type": "code",
   "execution_count": 33,
   "id": "e7aae1aa",
   "metadata": {
    "scrolled": true
   },
   "outputs": [
    {
     "data": {
      "text/plain": [
       "Index(['Chassis Transport'], dtype='object', name='vehicleClass')"
      ]
     },
     "execution_count": 33,
     "metadata": {},
     "output_type": "execute_result"
    }
   ],
   "source": [
    "df.loc[(df['colour'].isnull()),'vehicleClass'].value_counts().index\n"
   ]
  },
  {
   "cell_type": "code",
   "execution_count": 34,
   "id": "2d46632c",
   "metadata": {},
   "outputs": [
    {
     "data": {
      "text/plain": [
       "colour\n",
       "NIL                 1525\n",
       "TITANIUM_WHITE       715\n",
       "NEW GOLDEN BROWN     237\n",
       "ARCTIC WHITE         234\n",
       "TITANIUM WHITE       201\n",
       "C1ARTCWHIT           152\n",
       "WHITE                122\n",
       "M5EDCOATED            83\n",
       "DAZZLING WHITE        66\n",
       "BRICK_RED             38\n",
       "ARCTIC_WHITE          36\n",
       "BLACK                 34\n",
       "PRIMER                26\n",
       "IRISH CREAM           12\n",
       "C1GLDNBRWN            12\n",
       "JOSHBLUE              10\n",
       "LIGHT GREY             7\n",
       "M5WHITE                7\n",
       "TITANIM WHITE          6\n",
       "STABLE GREY            5\n",
       "ARTIC WHITE            4\n",
       "TITANIUM_WH            4\n",
       "RUBY_RED               2\n",
       "PREMIER                2\n",
       "YELLOW                 2\n",
       "NEW GLODEN BROWN       1\n",
       "TITANIMUM WHITE        1\n",
       "LIGHT GRAY             1\n",
       "GOLDEN BROWN           1\n",
       "Name: count, dtype: int64"
      ]
     },
     "execution_count": 34,
     "metadata": {},
     "output_type": "execute_result"
    }
   ],
   "source": [
    "# Checkingh the Colours for the chassis tansport\n",
    "\n",
    "df.loc[(df['vehicleClass']=='Chassis Transport'),'colour'].value_counts()\n",
    "\n",
    "# We found large number of NIL value\n",
    "# Because the Chassis vehicle mostly don't have its vehicle body, so we treat them as it is\n",
    "# And we can assign random colour for the chasis vehicle which can be the better option"
   ]
  },
  {
   "cell_type": "code",
   "execution_count": 35,
   "id": "3312eefe",
   "metadata": {},
   "outputs": [
    {
     "data": {
      "text/plain": [
       "Index(['NIL', 'TITANIUM_WHITE', 'NEW GOLDEN BROWN', 'ARCTIC WHITE',\n",
       "       'TITANIUM WHITE', 'C1ARTCWHIT', 'WHITE', 'M5EDCOATED', 'DAZZLING WHITE',\n",
       "       'BRICK_RED', 'ARCTIC_WHITE', 'BLACK', 'PRIMER', 'IRISH CREAM',\n",
       "       'C1GLDNBRWN', 'JOSHBLUE', 'LIGHT GREY', 'M5WHITE', 'TITANIM WHITE',\n",
       "       'STABLE GREY', 'ARTIC WHITE', 'TITANIUM_WH', 'RUBY_RED', 'PREMIER',\n",
       "       'YELLOW', 'NEW GLODEN BROWN', 'TITANIMUM WHITE', 'LIGHT GRAY',\n",
       "       'GOLDEN BROWN'],\n",
       "      dtype='object', name='colour')"
      ]
     },
     "execution_count": 35,
     "metadata": {},
     "output_type": "execute_result"
    }
   ],
   "source": [
    "# Storing the colour values in a variable\n",
    "df.loc[(df['vehicleClass']=='Chassis Transport'),'colour'].value_counts().index"
   ]
  },
  {
   "cell_type": "code",
   "execution_count": 36,
   "id": "49d68687",
   "metadata": {},
   "outputs": [
    {
     "data": {
      "text/plain": [
       "array(['NIL', 'C1GLDNBRWN', 'TITANIUM WHITE', 'TITANIUM_WHITE',\n",
       "       'BRICK_RED', 'PRIMER', 'NEW GOLDEN BROWN', 'WHITE', 'ARCTIC WHITE',\n",
       "       'TITANIM WHITE', 'DAZZLING WHITE', 'IRISH CREAM', 'TITANIUM_WH',\n",
       "       'ARTIC WHITE', 'ARCTIC_WHITE', 'LIGHT GREY', 'BLACK', 'C1ARTCWHIT',\n",
       "       'PREMIER', 'YELLOW', 'TITANIMUM WHITE', 'LIGHT GRAY', 'M5WHITE',\n",
       "       'M5EDCOATED', 'STABLE GREY', 'JOSHBLUE', 'RUBY_RED',\n",
       "       'NEW GLODEN BROWN', 'GOLDEN BROWN'], dtype=object)"
      ]
     },
     "execution_count": 36,
     "metadata": {},
     "output_type": "execute_result"
    }
   ],
   "source": [
    "df.loc[df['vehicleClass'] == 'Chassis Transport', 'colour'].dropna().unique()"
   ]
  },
  {
   "cell_type": "code",
   "execution_count": 37,
   "id": "97ccf9eb",
   "metadata": {},
   "outputs": [
    {
     "name": "stdout",
     "output_type": "stream",
     "text": [
      "Index(['NIL', 'TITANIUM_WHITE', 'NEW GOLDEN BROWN', 'ARCTIC WHITE',\n",
      "       'TITANIUM WHITE', 'C1ARTCWHIT', 'WHITE', 'M5EDCOATED', 'DAZZLING WHITE',\n",
      "       'BRICK_RED', 'ARCTIC_WHITE', 'BLACK', 'PRIMER', 'IRISH CREAM',\n",
      "       'C1GLDNBRWN', 'JOSHBLUE', 'LIGHT GREY', 'M5WHITE', 'TITANIM WHITE',\n",
      "       'STABLE GREY', 'ARTIC WHITE', 'TITANIUM_WH', 'RUBY_RED', 'PREMIER',\n",
      "       'YELLOW', 'NEW GLODEN BROWN', 'TITANIMUM WHITE', 'LIGHT GRAY',\n",
      "       'GOLDEN BROWN'],\n",
      "      dtype='object', name='colour')\n",
      "DAZZLING WHITE\n",
      "else__\n"
     ]
    }
   ],
   "source": [
    "import random\n",
    "def handle_colour(df):\n",
    "    null_colour=df.loc[(df['colour'].isnull()),'vehicleClass'].value_counts().index\n",
    "    avail_colour = df.loc[(df['vehicleClass']=='Chassis Transport'),'colour'].value_counts().index\n",
    "    for i in null_colour:\n",
    "        #avail_colour = df.loc[(df['vehicleClass']==i),'colour'].value_counts().index\n",
    "        print(avail_colour)\n",
    "        random_colour = random.choice(avail_colour)\n",
    "        df['colour']=df['colour'].fillna(random_colour)\n",
    "        print(random_colour)\n",
    "    else:\n",
    "        print('else__')\n",
    "handle_colour(df)"
   ]
  },
  {
   "cell_type": "code",
   "execution_count": 38,
   "id": "6580db5b",
   "metadata": {},
   "outputs": [
    {
     "data": {
      "text/plain": [
       "Index(['NIL', 'TITANIUM_WHITE', 'DAZZLING WHITE', 'NEW GOLDEN BROWN',\n",
       "       'ARCTIC WHITE', 'TITANIUM WHITE', 'C1ARTCWHIT', 'WHITE', 'M5EDCOATED',\n",
       "       'BRICK_RED', 'ARCTIC_WHITE', 'BLACK', 'PRIMER', 'IRISH CREAM',\n",
       "       'C1GLDNBRWN', 'JOSHBLUE', 'LIGHT GREY', 'M5WHITE', 'TITANIM WHITE',\n",
       "       'STABLE GREY', 'ARTIC WHITE', 'TITANIUM_WH', 'RUBY_RED', 'PREMIER',\n",
       "       'YELLOW', 'NEW GLODEN BROWN', 'TITANIMUM WHITE', 'LIGHT GRAY',\n",
       "       'GOLDEN BROWN'],\n",
       "      dtype='object', name='colour')"
      ]
     },
     "execution_count": 38,
     "metadata": {},
     "output_type": "execute_result"
    }
   ],
   "source": [
    "avail_colour = df.loc[(df['vehicleClass']=='Chassis Transport'),'colour'].value_counts().index\n",
    "avail_colour"
   ]
  },
  {
   "cell_type": "code",
   "execution_count": 39,
   "id": "c782ca63",
   "metadata": {},
   "outputs": [
    {
     "data": {
      "text/plain": [
       "Series([], Name: count, dtype: int64)"
      ]
     },
     "execution_count": 39,
     "metadata": {},
     "output_type": "execute_result"
    }
   ],
   "source": [
    "df.loc[(df['colour'].isnull()),'vehicleClass'].value_counts()"
   ]
  },
  {
   "cell_type": "code",
   "execution_count": 40,
   "id": "b57aa2a1",
   "metadata": {},
   "outputs": [],
   "source": [
    "## We successfully converted the colour null into some colour but the result is not as expected\n",
    "## I wanted to fill the random colours for the vehicle class, but it filled single colour"
   ]
  },
  {
   "cell_type": "code",
   "execution_count": 41,
   "id": "36b432b5",
   "metadata": {},
   "outputs": [
    {
     "data": {
      "text/plain": [
       "colour\n",
       "NIL                 1525\n",
       "TITANIUM_WHITE       715\n",
       "DAZZLING WHITE       385\n",
       "NEW GOLDEN BROWN     237\n",
       "ARCTIC WHITE         234\n",
       "TITANIUM WHITE       201\n",
       "C1ARTCWHIT           152\n",
       "WHITE                122\n",
       "M5EDCOATED            83\n",
       "BRICK_RED             38\n",
       "ARCTIC_WHITE          36\n",
       "BLACK                 34\n",
       "PRIMER                26\n",
       "IRISH CREAM           12\n",
       "C1GLDNBRWN            12\n",
       "JOSHBLUE              10\n",
       "LIGHT GREY             7\n",
       "M5WHITE                7\n",
       "TITANIM WHITE          6\n",
       "STABLE GREY            5\n",
       "ARTIC WHITE            4\n",
       "TITANIUM_WH            4\n",
       "RUBY_RED               2\n",
       "PREMIER                2\n",
       "YELLOW                 2\n",
       "NEW GLODEN BROWN       1\n",
       "TITANIMUM WHITE        1\n",
       "LIGHT GRAY             1\n",
       "GOLDEN BROWN           1\n",
       "Name: count, dtype: int64"
      ]
     },
     "execution_count": 41,
     "metadata": {},
     "output_type": "execute_result"
    }
   ],
   "source": [
    "df.loc[(df['vehicleClass']=='Chassis Transport'),'colour'].value_counts()"
   ]
  },
  {
   "cell_type": "markdown",
   "id": "3e4768d5",
   "metadata": {},
   "source": [
    "## Now lets fill up for the insurance_validity\n"
   ]
  },
  {
   "cell_type": "code",
   "execution_count": 42,
   "id": "da3c2b11",
   "metadata": {},
   "outputs": [
    {
     "data": {
      "text/plain": [
       "vehicleClass\n",
       "Chassis Transport                             39\n",
       "Trailer For Commercial Use                    27\n",
       "Ambulance                                     26\n",
       "MOTOR CAR                                     21\n",
       "Goods Carriage                                13\n",
       "MOTOR CYCLE                                    4\n",
       "Vehicle Fitted with Construction Equipment     2\n",
       "Tractor for Agricultural Purpose               2\n",
       "Ominibus                                       1\n",
       "Name: count, dtype: int64"
      ]
     },
     "execution_count": 42,
     "metadata": {},
     "output_type": "execute_result"
    }
   ],
   "source": [
    "df.loc[(df['insuranceValidity'].isnull()),'vehicleClass'].value_counts()"
   ]
  },
  {
   "cell_type": "code",
   "execution_count": 43,
   "id": "ff266c2f",
   "metadata": {},
   "outputs": [
    {
     "data": {
      "text/plain": [
       "'19/03/2024'"
      ]
     },
     "execution_count": 43,
     "metadata": {},
     "output_type": "execute_result"
    }
   ],
   "source": [
    "df.loc[(df['vehicleClass']=='Ominibus'),'insuranceValidity'].mode()[0]"
   ]
  },
  {
   "cell_type": "code",
   "execution_count": 44,
   "id": "fedf756d",
   "metadata": {},
   "outputs": [
    {
     "name": "stdout",
     "output_type": "stream",
     "text": [
      "<class 'pandas.core.series.Series'>\n",
      "RangeIndex: 627866 entries, 0 to 627865\n",
      "Series name: insuranceValidity\n",
      "Non-Null Count   Dtype \n",
      "--------------   ----- \n",
      "627731 non-null  object\n",
      "dtypes: object(1)\n",
      "memory usage: 4.8+ MB\n"
     ]
    }
   ],
   "source": [
    "df['insuranceValidity'].info()"
   ]
  },
  {
   "cell_type": "code",
   "execution_count": 45,
   "id": "1e61106e",
   "metadata": {},
   "outputs": [
    {
     "data": {
      "text/plain": [
       "insuranceValidity\n",
       "False    627731\n",
       "True        135\n",
       "Name: count, dtype: int64"
      ]
     },
     "execution_count": 45,
     "metadata": {},
     "output_type": "execute_result"
    }
   ],
   "source": [
    "df['insuranceValidity'].isnull().value_counts()"
   ]
  },
  {
   "cell_type": "code",
   "execution_count": 46,
   "id": "fb337989",
   "metadata": {},
   "outputs": [
    {
     "data": {
      "text/html": [
       "<div>\n",
       "<style scoped>\n",
       "    .dataframe tbody tr th:only-of-type {\n",
       "        vertical-align: middle;\n",
       "    }\n",
       "\n",
       "    .dataframe tbody tr th {\n",
       "        vertical-align: top;\n",
       "    }\n",
       "\n",
       "    .dataframe thead th {\n",
       "        text-align: right;\n",
       "    }\n",
       "</style>\n",
       "<table border=\"1\" class=\"dataframe\">\n",
       "  <thead>\n",
       "    <tr style=\"text-align: right;\">\n",
       "      <th></th>\n",
       "      <th>slno</th>\n",
       "      <th>modelDesc</th>\n",
       "      <th>fuel</th>\n",
       "      <th>colour</th>\n",
       "      <th>vehicleClass</th>\n",
       "      <th>makeYear</th>\n",
       "      <th>seatCapacity</th>\n",
       "      <th>insuranceValidity</th>\n",
       "      <th>secondVehicle</th>\n",
       "      <th>tempRegistrationNumber</th>\n",
       "      <th>category</th>\n",
       "      <th>makerName</th>\n",
       "      <th>OfficeCd</th>\n",
       "      <th>fromdate</th>\n",
       "      <th>todate</th>\n",
       "    </tr>\n",
       "  </thead>\n",
       "  <tbody>\n",
       "    <tr>\n",
       "      <th>25027</th>\n",
       "      <td>2736366</td>\n",
       "      <td>FORCE TCRUSERAMBULANCE FM2.6CR30506+PHT4X2 BSVI</td>\n",
       "      <td>DIESEL</td>\n",
       "      <td>SNOW WHITE</td>\n",
       "      <td>Ambulance</td>\n",
       "      <td>01/11/2022</td>\n",
       "      <td>7</td>\n",
       "      <td>NaN</td>\n",
       "      <td>N</td>\n",
       "      <td>TS08CYTR4078</td>\n",
       "      <td>Transport</td>\n",
       "      <td>FORCE MOTORS LIMITED</td>\n",
       "      <td>RTA KARIMNAGAR</td>\n",
       "      <td>06/01/2023</td>\n",
       "      <td>07/01/2023</td>\n",
       "    </tr>\n",
       "    <tr>\n",
       "      <th>25028</th>\n",
       "      <td>2736367</td>\n",
       "      <td>FORCE TCRUSERAMBULANCE FM2.6CR30506+PHT4X2 BSVI</td>\n",
       "      <td>DIESEL</td>\n",
       "      <td>SNOW WHITE</td>\n",
       "      <td>Ambulance</td>\n",
       "      <td>01/12/2022</td>\n",
       "      <td>7</td>\n",
       "      <td>NaN</td>\n",
       "      <td>N</td>\n",
       "      <td>TS08CYTR4060</td>\n",
       "      <td>Transport</td>\n",
       "      <td>FORCE MOTORS LIMITED</td>\n",
       "      <td>RTA HANUMAKONDA</td>\n",
       "      <td>06/01/2023</td>\n",
       "      <td>07/01/2023</td>\n",
       "    </tr>\n",
       "    <tr>\n",
       "      <th>25088</th>\n",
       "      <td>2736401</td>\n",
       "      <td>FORCE TCRUSERAMBULANCE FM2.6CR30506+PHT4X2 BSVI</td>\n",
       "      <td>DIESEL</td>\n",
       "      <td>SNOW WHITE</td>\n",
       "      <td>Ambulance</td>\n",
       "      <td>01/11/2022</td>\n",
       "      <td>7</td>\n",
       "      <td>NaN</td>\n",
       "      <td>N</td>\n",
       "      <td>TS08CYTR4044</td>\n",
       "      <td>Transport</td>\n",
       "      <td>FORCE MOTORS LIMITED</td>\n",
       "      <td>RTA-HYDERABAD-CZ</td>\n",
       "      <td>06/01/2023</td>\n",
       "      <td>07/01/2023</td>\n",
       "    </tr>\n",
       "    <tr>\n",
       "      <th>25089</th>\n",
       "      <td>2736526</td>\n",
       "      <td>FORCE TCRUSERAMBULANCE FM2.6CR30506+PHT4X2 BSVI</td>\n",
       "      <td>DIESEL</td>\n",
       "      <td>SNOW WHITE</td>\n",
       "      <td>Ambulance</td>\n",
       "      <td>01/12/2022</td>\n",
       "      <td>7</td>\n",
       "      <td>NaN</td>\n",
       "      <td>N</td>\n",
       "      <td>TS08CYTR4064</td>\n",
       "      <td>Transport</td>\n",
       "      <td>FORCE MOTORS LIMITED</td>\n",
       "      <td>RTA MEDCHAL</td>\n",
       "      <td>06/01/2023</td>\n",
       "      <td>07/01/2023</td>\n",
       "    </tr>\n",
       "    <tr>\n",
       "      <th>25093</th>\n",
       "      <td>2736505</td>\n",
       "      <td>FORCE TCRUSERAMBULANCE FM2.6CR30506+PHT4X2 BSVI</td>\n",
       "      <td>DIESEL</td>\n",
       "      <td>SNOW WHITE</td>\n",
       "      <td>Ambulance</td>\n",
       "      <td>01/12/2022</td>\n",
       "      <td>7</td>\n",
       "      <td>NaN</td>\n",
       "      <td>N</td>\n",
       "      <td>TS08CYTR4065</td>\n",
       "      <td>Transport</td>\n",
       "      <td>FORCE MOTORS LIMITED</td>\n",
       "      <td>RTA KHAMMAM</td>\n",
       "      <td>06/01/2023</td>\n",
       "      <td>07/01/2023</td>\n",
       "    </tr>\n",
       "  </tbody>\n",
       "</table>\n",
       "</div>"
      ],
      "text/plain": [
       "          slno                                        modelDesc    fuel  \\\n",
       "25027  2736366  FORCE TCRUSERAMBULANCE FM2.6CR30506+PHT4X2 BSVI  DIESEL   \n",
       "25028  2736367  FORCE TCRUSERAMBULANCE FM2.6CR30506+PHT4X2 BSVI  DIESEL   \n",
       "25088  2736401  FORCE TCRUSERAMBULANCE FM2.6CR30506+PHT4X2 BSVI  DIESEL   \n",
       "25089  2736526  FORCE TCRUSERAMBULANCE FM2.6CR30506+PHT4X2 BSVI  DIESEL   \n",
       "25093  2736505  FORCE TCRUSERAMBULANCE FM2.6CR30506+PHT4X2 BSVI  DIESEL   \n",
       "\n",
       "           colour vehicleClass    makeYear  seatCapacity insuranceValidity  \\\n",
       "25027  SNOW WHITE    Ambulance  01/11/2022             7               NaN   \n",
       "25028  SNOW WHITE    Ambulance  01/12/2022             7               NaN   \n",
       "25088  SNOW WHITE    Ambulance  01/11/2022             7               NaN   \n",
       "25089  SNOW WHITE    Ambulance  01/12/2022             7               NaN   \n",
       "25093  SNOW WHITE    Ambulance  01/12/2022             7               NaN   \n",
       "\n",
       "      secondVehicle tempRegistrationNumber   category             makerName  \\\n",
       "25027             N           TS08CYTR4078  Transport  FORCE MOTORS LIMITED   \n",
       "25028             N           TS08CYTR4060  Transport  FORCE MOTORS LIMITED   \n",
       "25088             N           TS08CYTR4044  Transport  FORCE MOTORS LIMITED   \n",
       "25089             N           TS08CYTR4064  Transport  FORCE MOTORS LIMITED   \n",
       "25093             N           TS08CYTR4065  Transport  FORCE MOTORS LIMITED   \n",
       "\n",
       "               OfficeCd    fromdate      todate  \n",
       "25027    RTA KARIMNAGAR  06/01/2023  07/01/2023  \n",
       "25028   RTA HANUMAKONDA  06/01/2023  07/01/2023  \n",
       "25088  RTA-HYDERABAD-CZ  06/01/2023  07/01/2023  \n",
       "25089       RTA MEDCHAL  06/01/2023  07/01/2023  \n",
       "25093       RTA KHAMMAM  06/01/2023  07/01/2023  "
      ]
     },
     "execution_count": 46,
     "metadata": {},
     "output_type": "execute_result"
    }
   ],
   "source": [
    "df.loc[(df['insuranceValidity'].isnull()) & (df['vehicleClass']=='Ambulance')].head()"
   ]
  },
  {
   "cell_type": "code",
   "execution_count": 47,
   "id": "72b27b6e",
   "metadata": {},
   "outputs": [
    {
     "name": "stdout",
     "output_type": "stream",
     "text": [
      "Chassis Transport 17/01/2024\n",
      "Trailer For Commercial Use 15/03/2024\n",
      "Ambulance 28/09/2023\n",
      "MOTOR CAR 29/03/2026\n",
      "Goods Carriage 29/03/2024\n",
      "MOTOR CYCLE 22/03/2028\n",
      "Vehicle Fitted with Construction Equipment 02/01/2024\n",
      "Tractor for Agricultural Purpose 30/05/2024\n",
      "Ominibus 19/03/2024\n"
     ]
    }
   ],
   "source": [
    "def handle_null_insure(df):\n",
    "    null_insure = df.loc[(df['insuranceValidity'].isnull()),'vehicleClass'].value_counts().index\n",
    "    for i in null_insure:\n",
    "        mode_insure = df.loc[(df['vehicleClass']==i),'insuranceValidity'].mode()[0]\n",
    "        df.loc[(df['vehicleClass']==i) & (df['insuranceValidity'].isnull()),'insuranceValidity'] = mode_insure\n",
    "        print(i,mode_insure)\n",
    "\n",
    "handle_null_insure(df)"
   ]
  },
  {
   "cell_type": "code",
   "execution_count": 48,
   "id": "a704b0b1",
   "metadata": {},
   "outputs": [
    {
     "data": {
      "text/html": [
       "<div>\n",
       "<style scoped>\n",
       "    .dataframe tbody tr th:only-of-type {\n",
       "        vertical-align: middle;\n",
       "    }\n",
       "\n",
       "    .dataframe tbody tr th {\n",
       "        vertical-align: top;\n",
       "    }\n",
       "\n",
       "    .dataframe thead th {\n",
       "        text-align: right;\n",
       "    }\n",
       "</style>\n",
       "<table border=\"1\" class=\"dataframe\">\n",
       "  <thead>\n",
       "    <tr style=\"text-align: right;\">\n",
       "      <th></th>\n",
       "      <th>slno</th>\n",
       "      <th>modelDesc</th>\n",
       "      <th>fuel</th>\n",
       "      <th>colour</th>\n",
       "      <th>vehicleClass</th>\n",
       "      <th>makeYear</th>\n",
       "      <th>seatCapacity</th>\n",
       "      <th>insuranceValidity</th>\n",
       "      <th>secondVehicle</th>\n",
       "      <th>tempRegistrationNumber</th>\n",
       "      <th>category</th>\n",
       "      <th>makerName</th>\n",
       "      <th>OfficeCd</th>\n",
       "      <th>fromdate</th>\n",
       "      <th>todate</th>\n",
       "    </tr>\n",
       "  </thead>\n",
       "  <tbody>\n",
       "    <tr>\n",
       "      <th>25027</th>\n",
       "      <td>2736366</td>\n",
       "      <td>FORCE TCRUSERAMBULANCE FM2.6CR30506+PHT4X2 BSVI</td>\n",
       "      <td>DIESEL</td>\n",
       "      <td>SNOW WHITE</td>\n",
       "      <td>Ambulance</td>\n",
       "      <td>01/11/2022</td>\n",
       "      <td>7</td>\n",
       "      <td>28/09/2023</td>\n",
       "      <td>N</td>\n",
       "      <td>TS08CYTR4078</td>\n",
       "      <td>Transport</td>\n",
       "      <td>FORCE MOTORS LIMITED</td>\n",
       "      <td>RTA KARIMNAGAR</td>\n",
       "      <td>06/01/2023</td>\n",
       "      <td>07/01/2023</td>\n",
       "    </tr>\n",
       "    <tr>\n",
       "      <th>25028</th>\n",
       "      <td>2736367</td>\n",
       "      <td>FORCE TCRUSERAMBULANCE FM2.6CR30506+PHT4X2 BSVI</td>\n",
       "      <td>DIESEL</td>\n",
       "      <td>SNOW WHITE</td>\n",
       "      <td>Ambulance</td>\n",
       "      <td>01/12/2022</td>\n",
       "      <td>7</td>\n",
       "      <td>28/09/2023</td>\n",
       "      <td>N</td>\n",
       "      <td>TS08CYTR4060</td>\n",
       "      <td>Transport</td>\n",
       "      <td>FORCE MOTORS LIMITED</td>\n",
       "      <td>RTA HANUMAKONDA</td>\n",
       "      <td>06/01/2023</td>\n",
       "      <td>07/01/2023</td>\n",
       "    </tr>\n",
       "    <tr>\n",
       "      <th>25088</th>\n",
       "      <td>2736401</td>\n",
       "      <td>FORCE TCRUSERAMBULANCE FM2.6CR30506+PHT4X2 BSVI</td>\n",
       "      <td>DIESEL</td>\n",
       "      <td>SNOW WHITE</td>\n",
       "      <td>Ambulance</td>\n",
       "      <td>01/11/2022</td>\n",
       "      <td>7</td>\n",
       "      <td>28/09/2023</td>\n",
       "      <td>N</td>\n",
       "      <td>TS08CYTR4044</td>\n",
       "      <td>Transport</td>\n",
       "      <td>FORCE MOTORS LIMITED</td>\n",
       "      <td>RTA-HYDERABAD-CZ</td>\n",
       "      <td>06/01/2023</td>\n",
       "      <td>07/01/2023</td>\n",
       "    </tr>\n",
       "    <tr>\n",
       "      <th>25089</th>\n",
       "      <td>2736526</td>\n",
       "      <td>FORCE TCRUSERAMBULANCE FM2.6CR30506+PHT4X2 BSVI</td>\n",
       "      <td>DIESEL</td>\n",
       "      <td>SNOW WHITE</td>\n",
       "      <td>Ambulance</td>\n",
       "      <td>01/12/2022</td>\n",
       "      <td>7</td>\n",
       "      <td>28/09/2023</td>\n",
       "      <td>N</td>\n",
       "      <td>TS08CYTR4064</td>\n",
       "      <td>Transport</td>\n",
       "      <td>FORCE MOTORS LIMITED</td>\n",
       "      <td>RTA MEDCHAL</td>\n",
       "      <td>06/01/2023</td>\n",
       "      <td>07/01/2023</td>\n",
       "    </tr>\n",
       "    <tr>\n",
       "      <th>25093</th>\n",
       "      <td>2736505</td>\n",
       "      <td>FORCE TCRUSERAMBULANCE FM2.6CR30506+PHT4X2 BSVI</td>\n",
       "      <td>DIESEL</td>\n",
       "      <td>SNOW WHITE</td>\n",
       "      <td>Ambulance</td>\n",
       "      <td>01/12/2022</td>\n",
       "      <td>7</td>\n",
       "      <td>28/09/2023</td>\n",
       "      <td>N</td>\n",
       "      <td>TS08CYTR4065</td>\n",
       "      <td>Transport</td>\n",
       "      <td>FORCE MOTORS LIMITED</td>\n",
       "      <td>RTA KHAMMAM</td>\n",
       "      <td>06/01/2023</td>\n",
       "      <td>07/01/2023</td>\n",
       "    </tr>\n",
       "  </tbody>\n",
       "</table>\n",
       "</div>"
      ],
      "text/plain": [
       "          slno                                        modelDesc    fuel  \\\n",
       "25027  2736366  FORCE TCRUSERAMBULANCE FM2.6CR30506+PHT4X2 BSVI  DIESEL   \n",
       "25028  2736367  FORCE TCRUSERAMBULANCE FM2.6CR30506+PHT4X2 BSVI  DIESEL   \n",
       "25088  2736401  FORCE TCRUSERAMBULANCE FM2.6CR30506+PHT4X2 BSVI  DIESEL   \n",
       "25089  2736526  FORCE TCRUSERAMBULANCE FM2.6CR30506+PHT4X2 BSVI  DIESEL   \n",
       "25093  2736505  FORCE TCRUSERAMBULANCE FM2.6CR30506+PHT4X2 BSVI  DIESEL   \n",
       "\n",
       "           colour vehicleClass    makeYear  seatCapacity insuranceValidity  \\\n",
       "25027  SNOW WHITE    Ambulance  01/11/2022             7        28/09/2023   \n",
       "25028  SNOW WHITE    Ambulance  01/12/2022             7        28/09/2023   \n",
       "25088  SNOW WHITE    Ambulance  01/11/2022             7        28/09/2023   \n",
       "25089  SNOW WHITE    Ambulance  01/12/2022             7        28/09/2023   \n",
       "25093  SNOW WHITE    Ambulance  01/12/2022             7        28/09/2023   \n",
       "\n",
       "      secondVehicle tempRegistrationNumber   category             makerName  \\\n",
       "25027             N           TS08CYTR4078  Transport  FORCE MOTORS LIMITED   \n",
       "25028             N           TS08CYTR4060  Transport  FORCE MOTORS LIMITED   \n",
       "25088             N           TS08CYTR4044  Transport  FORCE MOTORS LIMITED   \n",
       "25089             N           TS08CYTR4064  Transport  FORCE MOTORS LIMITED   \n",
       "25093             N           TS08CYTR4065  Transport  FORCE MOTORS LIMITED   \n",
       "\n",
       "               OfficeCd    fromdate      todate  \n",
       "25027    RTA KARIMNAGAR  06/01/2023  07/01/2023  \n",
       "25028   RTA HANUMAKONDA  06/01/2023  07/01/2023  \n",
       "25088  RTA-HYDERABAD-CZ  06/01/2023  07/01/2023  \n",
       "25089       RTA MEDCHAL  06/01/2023  07/01/2023  \n",
       "25093       RTA KHAMMAM  06/01/2023  07/01/2023  "
      ]
     },
     "execution_count": 48,
     "metadata": {},
     "output_type": "execute_result"
    }
   ],
   "source": [
    "df.loc[(df['insuranceValidity']=='28/09/2023') & (df['vehicleClass']=='Ambulance')].head()"
   ]
  },
  {
   "cell_type": "code",
   "execution_count": 49,
   "id": "2b1a2063",
   "metadata": {},
   "outputs": [
    {
     "data": {
      "text/plain": [
       "slno                      0\n",
       "modelDesc                 0\n",
       "fuel                      0\n",
       "colour                    0\n",
       "vehicleClass              0\n",
       "makeYear                  0\n",
       "seatCapacity              0\n",
       "insuranceValidity         0\n",
       "secondVehicle             0\n",
       "tempRegistrationNumber    0\n",
       "category                  0\n",
       "makerName                 0\n",
       "OfficeCd                  0\n",
       "fromdate                  0\n",
       "todate                    0\n",
       "dtype: int64"
      ]
     },
     "execution_count": 49,
     "metadata": {},
     "output_type": "execute_result"
    }
   ],
   "source": [
    "df.isnull().sum()\n",
    "\n",
    "# By this we have fixed all of our null value, so now onwards we can explore the data"
   ]
  },
  {
   "cell_type": "code",
   "execution_count": 50,
   "id": "b40e3023",
   "metadata": {},
   "outputs": [
    {
     "data": {
      "text/plain": [
       "(627866, 15)"
      ]
     },
     "execution_count": 50,
     "metadata": {},
     "output_type": "execute_result"
    }
   ],
   "source": [
    "df.shape"
   ]
  },
  {
   "cell_type": "code",
   "execution_count": 51,
   "id": "59d72db5",
   "metadata": {},
   "outputs": [],
   "source": [
    "\n",
    "df.drop_duplicates(inplace=True)"
   ]
  },
  {
   "cell_type": "code",
   "execution_count": 52,
   "id": "15265a33",
   "metadata": {},
   "outputs": [
    {
     "data": {
      "text/plain": [
       "(627866, 15)"
      ]
     },
     "execution_count": 52,
     "metadata": {},
     "output_type": "execute_result"
    }
   ],
   "source": [
    "df.shape"
   ]
  },
  {
   "cell_type": "markdown",
   "id": "1546f973",
   "metadata": {},
   "source": [
    "# Now we can make questions and try to find answers"
   ]
  },
  {
   "cell_type": "code",
   "execution_count": 53,
   "id": "efb022e1",
   "metadata": {},
   "outputs": [
    {
     "data": {
      "text/html": [
       "<div>\n",
       "<style scoped>\n",
       "    .dataframe tbody tr th:only-of-type {\n",
       "        vertical-align: middle;\n",
       "    }\n",
       "\n",
       "    .dataframe tbody tr th {\n",
       "        vertical-align: top;\n",
       "    }\n",
       "\n",
       "    .dataframe thead th {\n",
       "        text-align: right;\n",
       "    }\n",
       "</style>\n",
       "<table border=\"1\" class=\"dataframe\">\n",
       "  <thead>\n",
       "    <tr style=\"text-align: right;\">\n",
       "      <th></th>\n",
       "      <th>slno</th>\n",
       "      <th>modelDesc</th>\n",
       "      <th>fuel</th>\n",
       "      <th>colour</th>\n",
       "      <th>vehicleClass</th>\n",
       "      <th>makeYear</th>\n",
       "      <th>seatCapacity</th>\n",
       "      <th>insuranceValidity</th>\n",
       "      <th>secondVehicle</th>\n",
       "      <th>tempRegistrationNumber</th>\n",
       "      <th>category</th>\n",
       "      <th>makerName</th>\n",
       "      <th>OfficeCd</th>\n",
       "      <th>fromdate</th>\n",
       "      <th>todate</th>\n",
       "    </tr>\n",
       "  </thead>\n",
       "  <tbody>\n",
       "    <tr>\n",
       "      <th>0</th>\n",
       "      <td>19139</td>\n",
       "      <td>ACTIVA - 6G DLX BSVI</td>\n",
       "      <td>PETROL</td>\n",
       "      <td>DECENT BLUE METALLIC</td>\n",
       "      <td>MOTOR CYCLE</td>\n",
       "      <td>01/08/2022</td>\n",
       "      <td>2</td>\n",
       "      <td>01/01/2028</td>\n",
       "      <td>Y</td>\n",
       "      <td>TS11AGTR3069</td>\n",
       "      <td>Non Transport</td>\n",
       "      <td>HONDA MOTORCYCLE&amp;SCOOTER(I)P L</td>\n",
       "      <td>RTA MEDCHAL</td>\n",
       "      <td>01/01/2023</td>\n",
       "      <td>02/01/2023</td>\n",
       "    </tr>\n",
       "    <tr>\n",
       "      <th>1</th>\n",
       "      <td>19210</td>\n",
       "      <td>ACTIVA - 6G DLX BSVI</td>\n",
       "      <td>PETROL</td>\n",
       "      <td>DECENT BLUE METALLIC</td>\n",
       "      <td>MOTOR CYCLE</td>\n",
       "      <td>01/09/2022</td>\n",
       "      <td>2</td>\n",
       "      <td>01/01/2028</td>\n",
       "      <td>Y</td>\n",
       "      <td>TS11AGTR3340</td>\n",
       "      <td>Non Transport</td>\n",
       "      <td>HONDA MOTORCYCLE&amp;SCOOTER(I)P L</td>\n",
       "      <td>RTA MEDCHAL</td>\n",
       "      <td>01/01/2023</td>\n",
       "      <td>02/01/2023</td>\n",
       "    </tr>\n",
       "  </tbody>\n",
       "</table>\n",
       "</div>"
      ],
      "text/plain": [
       "    slno             modelDesc    fuel                colour vehicleClass  \\\n",
       "0  19139  ACTIVA - 6G DLX BSVI  PETROL  DECENT BLUE METALLIC  MOTOR CYCLE   \n",
       "1  19210  ACTIVA - 6G DLX BSVI  PETROL  DECENT BLUE METALLIC  MOTOR CYCLE   \n",
       "\n",
       "     makeYear  seatCapacity insuranceValidity secondVehicle  \\\n",
       "0  01/08/2022             2        01/01/2028             Y   \n",
       "1  01/09/2022             2        01/01/2028             Y   \n",
       "\n",
       "  tempRegistrationNumber       category                       makerName  \\\n",
       "0           TS11AGTR3069  Non Transport  HONDA MOTORCYCLE&SCOOTER(I)P L   \n",
       "1           TS11AGTR3340  Non Transport  HONDA MOTORCYCLE&SCOOTER(I)P L   \n",
       "\n",
       "      OfficeCd    fromdate      todate  \n",
       "0  RTA MEDCHAL  01/01/2023  02/01/2023  \n",
       "1  RTA MEDCHAL  01/01/2023  02/01/2023  "
      ]
     },
     "execution_count": 53,
     "metadata": {},
     "output_type": "execute_result"
    }
   ],
   "source": [
    "df.head(2)"
   ]
  },
  {
   "cell_type": "code",
   "execution_count": 54,
   "id": "1b8b753a",
   "metadata": {},
   "outputs": [
    {
     "data": {
      "text/plain": [
       "fuel\n",
       "PETROL     387039\n",
       "BATTERY     28775\n",
       "Name: count, dtype: int64"
      ]
     },
     "execution_count": 54,
     "metadata": {},
     "output_type": "execute_result"
    }
   ],
   "source": [
    "# Check out the motorcycle count with fuel wise\n",
    "motorcycle_fuel = (df['vehicleClass']=='MOTOR CYCLE')\n",
    "df.loc[(motorcycle_fuel),'fuel'].value_counts()\n",
    "# Observaation\n",
    "# Most of the motorcycle are running at Petrol followed by Battery"
   ]
  },
  {
   "cell_type": "code",
   "execution_count": 55,
   "id": "89353504",
   "metadata": {},
   "outputs": [
    {
     "data": {
      "text/plain": [
       "Index(['MOTOR CYCLE', 'MOTOR CAR', 'Auto Rickshaw', 'Goods Carriage',\n",
       "       'Tractor for Agricultural Purpose', 'Motor Cab',\n",
       "       'Tractor for Commercial Use', 'Trailer For Commercial Use',\n",
       "       'Trailer for Agriculture Purpose', 'Three Wheeled Goods Vehicle',\n",
       "       'Chassis Transport', 'Ominibus', 'Motor Cycle for Hire',\n",
       "       'Vehicle Fitted with Construction Equipment', 'Omnibus for Private Use',\n",
       "       'Maxi Cab', 'Tractor Driven Combined Harvester', 'Loader', 'Ambulance',\n",
       "       'Articulated Vehicles', 'Self Loading Concrete Mixer',\n",
       "       'SELF PROPELLED HARVESTER', 'Crane For Private Use', 'Road Roller',\n",
       "       'Fork Lift', 'Auto Rikckshaw Private', 'MOTOR GRADER',\n",
       "       'Mopeds and Motorised Cycle'],\n",
       "      dtype='object', name='vehicleClass')"
      ]
     },
     "execution_count": 55,
     "metadata": {},
     "output_type": "execute_result"
    }
   ],
   "source": [
    "vehicle_fuel = df['vehicleClass'].value_counts().index\n",
    "vehicle_fuel"
   ]
  },
  {
   "cell_type": "code",
   "execution_count": 56,
   "id": "b68ca403",
   "metadata": {},
   "outputs": [],
   "source": [
    "## plotting plots\n",
    "vehicle_name = []\n",
    "fuel_name = []\n",
    "fuel_count = []\n",
    "for i in vehicle_fuel:\n",
    "    motorcycle_fuel = (df['vehicleClass']==i)\n",
    "    fuel = df.loc[(motorcycle_fuel),'fuel'].value_counts()\n",
    "    vehicle_name.append(i)\n",
    "    fuel_name.append(fuel.index)\n",
    "    fuel_count.append(fuel.values)\n",
    "    \n",
    "    #print('Vehicle Name : ',i,'\\n',fuel,'\\n')"
   ]
  },
  {
   "cell_type": "code",
   "execution_count": 57,
   "id": "4608abbe",
   "metadata": {},
   "outputs": [
    {
     "data": {
      "text/plain": [
       "array([387039,  28775], dtype=int64)"
      ]
     },
     "execution_count": 57,
     "metadata": {},
     "output_type": "execute_result"
    }
   ],
   "source": [
    "fuel_count[0]"
   ]
  },
  {
   "cell_type": "code",
   "execution_count": 58,
   "id": "fb24252c",
   "metadata": {},
   "outputs": [
    {
     "data": {
      "text/plain": [
       "['MOTOR CYCLE',\n",
       " 'MOTOR CAR',\n",
       " 'Auto Rickshaw',\n",
       " 'Goods Carriage',\n",
       " 'Tractor for Agricultural Purpose',\n",
       " 'Motor Cab',\n",
       " 'Tractor for Commercial Use',\n",
       " 'Trailer For Commercial Use',\n",
       " 'Trailer for Agriculture Purpose',\n",
       " 'Three Wheeled Goods Vehicle',\n",
       " 'Chassis Transport',\n",
       " 'Ominibus',\n",
       " 'Motor Cycle for Hire',\n",
       " 'Vehicle Fitted with Construction Equipment',\n",
       " 'Omnibus for Private Use',\n",
       " 'Maxi Cab',\n",
       " 'Tractor Driven Combined Harvester',\n",
       " 'Loader',\n",
       " 'Ambulance',\n",
       " 'Articulated Vehicles',\n",
       " 'Self Loading Concrete Mixer',\n",
       " 'SELF PROPELLED HARVESTER',\n",
       " 'Crane For Private Use',\n",
       " 'Road Roller',\n",
       " 'Fork Lift',\n",
       " 'Auto Rikckshaw Private',\n",
       " 'MOTOR GRADER',\n",
       " 'Mopeds and Motorised Cycle']"
      ]
     },
     "execution_count": 58,
     "metadata": {},
     "output_type": "execute_result"
    }
   ],
   "source": [
    "vehicle_name"
   ]
  },
  {
   "cell_type": "code",
   "execution_count": 59,
   "id": "0c545c91",
   "metadata": {},
   "outputs": [
    {
     "data": {
      "text/plain": [
       "[Index(['PETROL', 'BATTERY'], dtype='object', name='fuel'),\n",
       " Index(['PETROL', 'DIESEL', 'BATTERY', 'CNG PETROL', 'PETROL ELECTRIC', 'CNG'], dtype='object', name='fuel'),\n",
       " Index(['CNG PETROL', 'DIESEL', 'PETROL LPG', 'CNG', 'BATTERY', 'PETROL CNG',\n",
       "        'LPG', 'PETROL'],\n",
       "       dtype='object', name='fuel'),\n",
       " Index(['DIESEL', 'PETROL', 'CNG', 'BATTERY', 'CNG PETROL'], dtype='object', name='fuel'),\n",
       " Index(['DIESEL', 'PETROL'], dtype='object', name='fuel'),\n",
       " Index(['PETROL', 'CNG PETROL', 'BATTERY', 'DIESEL', 'PETROL ELECTRIC'], dtype='object', name='fuel'),\n",
       " Index(['DIESEL'], dtype='object', name='fuel'),\n",
       " Index(['DIESEL'], dtype='object', name='fuel'),\n",
       " Index(['DIESEL'], dtype='object', name='fuel'),\n",
       " Index(['DIESEL', 'BATTERY', 'CNG PETROL', 'CNG', 'PETROL LPG'], dtype='object', name='fuel'),\n",
       " Index(['DIESEL', 'CNG'], dtype='object', name='fuel'),\n",
       " Index(['DIESEL', 'BATTERY'], dtype='object', name='fuel'),\n",
       " Index(['BATTERY', 'PETROL'], dtype='object', name='fuel'),\n",
       " Index(['DIESEL'], dtype='object', name='fuel'),\n",
       " Index(['PETROL', 'DIESEL'], dtype='object', name='fuel'),\n",
       " Index(['DIESEL', 'PETROL'], dtype='object', name='fuel'),\n",
       " Index(['DIESEL'], dtype='object', name='fuel'),\n",
       " Index(['DIESEL'], dtype='object', name='fuel'),\n",
       " Index(['DIESEL', 'PETROL'], dtype='object', name='fuel'),\n",
       " Index(['DIESEL'], dtype='object', name='fuel'),\n",
       " Index(['DIESEL'], dtype='object', name='fuel'),\n",
       " Index(['DIESEL'], dtype='object', name='fuel'),\n",
       " Index(['DIESEL'], dtype='object', name='fuel'),\n",
       " Index(['DIESEL'], dtype='object', name='fuel'),\n",
       " Index(['DIESEL'], dtype='object', name='fuel'),\n",
       " Index(['PETROL LPG', 'CNG PETROL'], dtype='object', name='fuel'),\n",
       " Index(['DIESEL'], dtype='object', name='fuel'),\n",
       " Index(['PETROL'], dtype='object', name='fuel')]"
      ]
     },
     "execution_count": 59,
     "metadata": {},
     "output_type": "execute_result"
    }
   ],
   "source": [
    "fuel_name"
   ]
  },
  {
   "cell_type": "code",
   "execution_count": 60,
   "id": "7e951d81",
   "metadata": {},
   "outputs": [
    {
     "data": {
      "text/plain": [
       "[array([387039,  28775], dtype=int64),\n",
       " array([83492, 21779,  5150,  3001,    73,     1], dtype=int64),\n",
       " array([9604, 5678, 3943, 1737,  413,   51,   13,   12], dtype=int64),\n",
       " array([14658,   797,   270,    36,    20], dtype=int64),\n",
       " array([14959,     3], dtype=int64),\n",
       " array([5983, 2838,  408,  343,   14], dtype=int64),\n",
       " array([8184], dtype=int64),\n",
       " array([7435], dtype=int64),\n",
       " array([5979], dtype=int64),\n",
       " array([3862,  956,  103,   76,    1], dtype=int64),\n",
       " array([3832,   33], dtype=int64),\n",
       " array([2280,   22], dtype=int64),\n",
       " array([748, 163], dtype=int64),\n",
       " array([788], dtype=int64),\n",
       " array([358, 331], dtype=int64),\n",
       " array([599,  41], dtype=int64),\n",
       " array([206], dtype=int64),\n",
       " array([175], dtype=int64),\n",
       " array([112,  43], dtype=int64),\n",
       " array([146], dtype=int64),\n",
       " array([94], dtype=int64),\n",
       " array([82], dtype=int64),\n",
       " array([45], dtype=int64),\n",
       " array([42], dtype=int64),\n",
       " array([19], dtype=int64),\n",
       " array([7, 5], dtype=int64),\n",
       " array([6], dtype=int64),\n",
       " array([3], dtype=int64)]"
      ]
     },
     "execution_count": 60,
     "metadata": {},
     "output_type": "execute_result"
    }
   ],
   "source": [
    "fuel_count"
   ]
  },
  {
   "cell_type": "code",
   "execution_count": 61,
   "id": "9e9c9d2d",
   "metadata": {},
   "outputs": [],
   "source": [
    "x_index = np.arange(len(fuel_count[1]))"
   ]
  },
  {
   "cell_type": "code",
   "execution_count": 62,
   "id": "cc709474",
   "metadata": {},
   "outputs": [
    {
     "data": {
      "text/plain": [
       "array([0, 1, 2, 3, 4, 5])"
      ]
     },
     "execution_count": 62,
     "metadata": {},
     "output_type": "execute_result"
    }
   ],
   "source": [
    "x_index"
   ]
  },
  {
   "cell_type": "code",
   "execution_count": 63,
   "id": "9b9cc6e0",
   "metadata": {},
   "outputs": [
    {
     "data": {
      "text/plain": [
       "'MOTOR CAR'"
      ]
     },
     "execution_count": 63,
     "metadata": {},
     "output_type": "execute_result"
    }
   ],
   "source": [
    "vehicle_name[1]"
   ]
  },
  {
   "cell_type": "code",
   "execution_count": 64,
   "id": "f17fb983",
   "metadata": {},
   "outputs": [
    {
     "data": {
      "text/plain": [
       "Index(['PETROL', 'DIESEL', 'BATTERY', 'CNG PETROL', 'PETROL ELECTRIC', 'CNG'], dtype='object', name='fuel')"
      ]
     },
     "execution_count": 64,
     "metadata": {},
     "output_type": "execute_result"
    }
   ],
   "source": [
    "fuel_name[1]"
   ]
  },
  {
   "cell_type": "code",
   "execution_count": 65,
   "id": "05602eb4",
   "metadata": {},
   "outputs": [],
   "source": []
  },
  {
   "cell_type": "code",
   "execution_count": 67,
   "id": "fac0ea59",
   "metadata": {},
   "outputs": [
    {
     "data": {
      "text/html": [
       "<div style=\"width:100%;\"><div style=\"position:relative;width:100%;height:0;padding-bottom:60%;\"><span style=\"color:#565656\">Make this Notebook Trusted to load map: File -> Trust Notebook</span><iframe srcdoc=\"&lt;!DOCTYPE html&gt;\n",
       "&lt;html&gt;\n",
       "&lt;head&gt;\n",
       "    \n",
       "    &lt;meta http-equiv=&quot;content-type&quot; content=&quot;text/html; charset=UTF-8&quot; /&gt;\n",
       "    \n",
       "        &lt;script&gt;\n",
       "            L_NO_TOUCH = false;\n",
       "            L_DISABLE_3D = false;\n",
       "        &lt;/script&gt;\n",
       "    \n",
       "    &lt;style&gt;html, body {width: 100%;height: 100%;margin: 0;padding: 0;}&lt;/style&gt;\n",
       "    &lt;style&gt;#map {position:absolute;top:0;bottom:0;right:0;left:0;}&lt;/style&gt;\n",
       "    &lt;script src=&quot;https://cdn.jsdelivr.net/npm/leaflet@1.9.3/dist/leaflet.js&quot;&gt;&lt;/script&gt;\n",
       "    &lt;script src=&quot;https://code.jquery.com/jquery-1.12.4.min.js&quot;&gt;&lt;/script&gt;\n",
       "    &lt;script src=&quot;https://cdn.jsdelivr.net/npm/bootstrap@5.2.2/dist/js/bootstrap.bundle.min.js&quot;&gt;&lt;/script&gt;\n",
       "    &lt;script src=&quot;https://cdnjs.cloudflare.com/ajax/libs/Leaflet.awesome-markers/2.0.2/leaflet.awesome-markers.js&quot;&gt;&lt;/script&gt;\n",
       "    &lt;link rel=&quot;stylesheet&quot; href=&quot;https://cdn.jsdelivr.net/npm/leaflet@1.9.3/dist/leaflet.css&quot;/&gt;\n",
       "    &lt;link rel=&quot;stylesheet&quot; href=&quot;https://cdn.jsdelivr.net/npm/bootstrap@5.2.2/dist/css/bootstrap.min.css&quot;/&gt;\n",
       "    &lt;link rel=&quot;stylesheet&quot; href=&quot;https://netdna.bootstrapcdn.com/bootstrap/3.0.0/css/bootstrap.min.css&quot;/&gt;\n",
       "    &lt;link rel=&quot;stylesheet&quot; href=&quot;https://cdn.jsdelivr.net/npm/@fortawesome/fontawesome-free@6.2.0/css/all.min.css&quot;/&gt;\n",
       "    &lt;link rel=&quot;stylesheet&quot; href=&quot;https://cdnjs.cloudflare.com/ajax/libs/Leaflet.awesome-markers/2.0.2/leaflet.awesome-markers.css&quot;/&gt;\n",
       "    &lt;link rel=&quot;stylesheet&quot; href=&quot;https://cdn.jsdelivr.net/gh/python-visualization/folium/folium/templates/leaflet.awesome.rotate.min.css&quot;/&gt;\n",
       "    \n",
       "            &lt;meta name=&quot;viewport&quot; content=&quot;width=device-width,\n",
       "                initial-scale=1.0, maximum-scale=1.0, user-scalable=no&quot; /&gt;\n",
       "            &lt;style&gt;\n",
       "                #map_88a4bd5da8314bf568f89cd4836c9ae7 {\n",
       "                    position: relative;\n",
       "                    width: 100.0%;\n",
       "                    height: 100.0%;\n",
       "                    left: 0.0%;\n",
       "                    top: 0.0%;\n",
       "                }\n",
       "                .leaflet-container { font-size: 1rem; }\n",
       "            &lt;/style&gt;\n",
       "        \n",
       "&lt;/head&gt;\n",
       "&lt;body&gt;\n",
       "    \n",
       "    \n",
       "            &lt;div class=&quot;folium-map&quot; id=&quot;map_88a4bd5da8314bf568f89cd4836c9ae7&quot; &gt;&lt;/div&gt;\n",
       "        \n",
       "&lt;/body&gt;\n",
       "&lt;script&gt;\n",
       "    \n",
       "    \n",
       "            var map_88a4bd5da8314bf568f89cd4836c9ae7 = L.map(\n",
       "                &quot;map_88a4bd5da8314bf568f89cd4836c9ae7&quot;,\n",
       "                {\n",
       "                    center: [0, 0],\n",
       "                    crs: L.CRS.EPSG3857,\n",
       "                    zoom: 1,\n",
       "                    zoomControl: true,\n",
       "                    preferCanvas: false,\n",
       "                }\n",
       "            );\n",
       "\n",
       "            \n",
       "\n",
       "        \n",
       "    \n",
       "            var tile_layer_27e8fead3687c3ff57fcf83e0d186e22 = L.tileLayer(\n",
       "                &quot;https://{s}.tile.openstreetmap.org/{z}/{x}/{y}.png&quot;,\n",
       "                {&quot;attribution&quot;: &quot;Data by \\u0026copy; \\u003ca target=\\&quot;_blank\\&quot; href=\\&quot;http://openstreetmap.org\\&quot;\\u003eOpenStreetMap\\u003c/a\\u003e, under \\u003ca target=\\&quot;_blank\\&quot; href=\\&quot;http://www.openstreetmap.org/copyright\\&quot;\\u003eODbL\\u003c/a\\u003e.&quot;, &quot;detectRetina&quot;: false, &quot;maxNativeZoom&quot;: 18, &quot;maxZoom&quot;: 18, &quot;minZoom&quot;: 0, &quot;noWrap&quot;: false, &quot;opacity&quot;: 1, &quot;subdomains&quot;: &quot;abc&quot;, &quot;tms&quot;: false}\n",
       "            ).addTo(map_88a4bd5da8314bf568f89cd4836c9ae7);\n",
       "        \n",
       "&lt;/script&gt;\n",
       "&lt;/html&gt;\" style=\"position:absolute;width:100%;height:100%;left:0;top:0;border:none !important;\" allowfullscreen webkitallowfullscreen mozallowfullscreen></iframe></div></div>"
      ],
      "text/plain": [
       "<folium.folium.Map at 0x1ccb7996860>"
      ]
     },
     "execution_count": 67,
     "metadata": {},
     "output_type": "execute_result"
    }
   ],
   "source": []
  },
  {
   "cell_type": "code",
   "execution_count": null,
   "id": "b5f860af",
   "metadata": {},
   "outputs": [],
   "source": []
  },
  {
   "cell_type": "code",
   "execution_count": null,
   "id": "666c6fb4",
   "metadata": {},
   "outputs": [],
   "source": []
  },
  {
   "cell_type": "code",
   "execution_count": null,
   "id": "44ff4b57",
   "metadata": {},
   "outputs": [],
   "source": [
    "df.loc[(df['vehicleClass']== 'MOTOR CAR') & (df['fuel']=='DIESEL'),['fuel','vehicleClass','colour']].value_counts()"
   ]
  },
  {
   "cell_type": "code",
   "execution_count": null,
   "id": "775217cb",
   "metadata": {},
   "outputs": [],
   "source": [
    "df['insuranceValidity'] = pd.to_datetime(df['insuranceValidity'], format='%d/%m/%Y', errors='coerce')"
   ]
  }
 ],
 "metadata": {
  "kernelspec": {
   "display_name": "Python 3 (ipykernel)",
   "language": "python",
   "name": "python3"
  },
  "language_info": {
   "codemirror_mode": {
    "name": "ipython",
    "version": 3
   },
   "file_extension": ".py",
   "mimetype": "text/x-python",
   "name": "python",
   "nbconvert_exporter": "python",
   "pygments_lexer": "ipython3",
   "version": "3.10.12"
  }
 },
 "nbformat": 4,
 "nbformat_minor": 5
}
